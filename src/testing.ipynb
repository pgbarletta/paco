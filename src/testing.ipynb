{
 "cells": [
  {
   "cell_type": "code",
   "execution_count": 1,
   "metadata": {
    "collapsed": true,
    "ExecuteTime": {
     "end_time": "2023-11-17T12:55:28.344867755Z",
     "start_time": "2023-11-17T12:55:25.306904325Z"
    }
   },
   "outputs": [],
   "source": [
    "import sys\n",
    "from pathlib import Path\n",
    "import pickle\n",
    "import numpy as np\n",
    "import matplotlib.pyplot as plt\n",
    "import MDAnalysis as mda\n",
    "import torch\n",
    "import torch.nn as nn\n",
    "import torch.nn.functional as F\n",
    "from primitives import gaussian_blur, get_box_atm_indices, Residue\n",
    "from scipy.ndimage import gaussian_filter\n",
    "from scipy.signal.windows import gaussian\n",
    "from matplotlib.pyplot import figure\n",
    "# from pyuul import VolumeMaker # the main PyUUL module\n",
    "from pyuul import utils\n",
    "from myvolmaker import Voxels\n",
    "from proteinshake.tasks import EnzymeClassTask, ProteinProteinInterfaceTask\n",
    "from proteinshake.datasets import Dataset\n",
    "from torch.utils.data import DataLoader\n",
    "\n",
    "# Use proteins with Enzyme Class annotations\n",
    "# Convert them to voxels with a voxelsize of 10 Angstrom\n",
    "# Load into PyTorch data structures\n",
    "# task = ProteinProteinInterfaceTask().to_voxel(voxelsize=10).torch()\n",
    "# task = ProteinProteinInterfaceTask()\n",
    "# task.to_voxel(voxelsize=10).torch()\n",
    "# train, test = DataLoader(task.train), DataLoader(task.test)\n",
    "\n",
    "casa = Path(\"/home/pbarletta/labo/23/paco\")\n",
    "dlp = Path(\"/home/pbarletta/labo/22/locuaz/rebin/dlpacker\")\n",
    "weights_path = Path(dlp, \"DLPacker_weights.h5\")\n",
    "lib_path = Path(dlp, \"library.npz\")\n",
    "charges_path = Path(dlp, \"charges.rtp\")"
   ]
  },
  {
   "cell_type": "code",
   "execution_count": 2,
   "metadata": {
    "collapsed": false,
    "ExecuteTime": {
     "end_time": "2023-11-17T12:55:30.320600019Z",
     "start_time": "2023-11-17T12:55:28.346078377Z"
    }
   },
   "outputs": [
    {
     "data": {
      "text/plain": "((69, 98, 89), 11)"
     },
     "execution_count": 2,
     "metadata": {},
     "output_type": "execute_result"
    }
   ],
   "source": [
    "input_pdb_fn = Path(casa, \"d11.pdb\")\n",
    "coords, atname = utils.parsePDB(input_pdb_fn)\n",
    "atoms_channel = utils.atomlistToChannels(atname)\n",
    "radius = utils.atomlistToRadius(atname)\n",
    "resolution = 1\n",
    "\n",
    "volmaker = Voxels(device=\"cpu\",sparse=False)\n",
    "voxelized_volume = volmaker(coords, radius, atoms_channel,\n",
    "                            resolution=resolution, cubes_around_atoms_dim=5,\n",
    "                            function=\"gaussian\")\n",
    "voxels = voxelized_volume.sum(1)[:, None, :, :]\n",
    "sp_voxels = voxels.to_sparse()\n",
    "sp_voxels = sp_voxels[0, 0].coalesce()\n",
    "volmaker.boxsize, volmaker.lato"
   ]
  },
  {
   "cell_type": "code",
   "execution_count": 3,
   "outputs": [],
   "source": [
    "coords = volmaker.get_voxels_coordinates(atoms_channel)"
   ],
   "metadata": {
    "collapsed": false,
    "ExecuteTime": {
     "end_time": "2023-11-17T12:55:37.728411863Z",
     "start_time": "2023-11-17T12:55:30.319676486Z"
    }
   }
  },
  {
   "cell_type": "code",
   "execution_count": 4,
   "outputs": [],
   "source": [
    "def write_pdb_dots(voxel_coords, voxel_density, ndots: int, out_fn) :\n",
    "    u = mda.Universe.empty(n_atoms = ndots, trajectory=True)\n",
    "    u.add_TopologyAttr('name', ['H'] * ndots)\n",
    "    u.add_TopologyAttr('type', ['H'] * ndots)\n",
    "    u.add_TopologyAttr('tempfactor', np.array(voxel_density))\n",
    "    u.atoms.positions = np.array(voxel_coords) \n",
    "    u.atoms.write(out_fn)"
   ],
   "metadata": {
    "collapsed": false,
    "ExecuteTime": {
     "end_time": "2023-11-17T12:55:37.758191760Z",
     "start_time": "2023-11-17T12:55:37.733055831Z"
    }
   }
  },
  {
   "cell_type": "code",
   "execution_count": 5,
   "outputs": [
    {
     "name": "stderr",
     "output_type": "stream",
     "text": [
      "/home/pbarletta/mambaforge/envs/torch/lib/python3.10/site-packages/MDAnalysis/coordinates/PDB.py:775: UserWarning: Unit cell dimensions not found. CRYST1 record set to unitary values.\n",
      "  warnings.warn(\"Unit cell dimensions not found. \"\n",
      "/home/pbarletta/mambaforge/envs/torch/lib/python3.10/site-packages/MDAnalysis/coordinates/PDB.py:1151: UserWarning: Found no information for attr: 'altLocs' Using default value of ' '\n",
      "  warnings.warn(\"Found no information for attr: '{}'\"\n",
      "/home/pbarletta/mambaforge/envs/torch/lib/python3.10/site-packages/MDAnalysis/coordinates/PDB.py:1151: UserWarning: Found no information for attr: 'resnames' Using default value of 'UNK'\n",
      "  warnings.warn(\"Found no information for attr: '{}'\"\n",
      "/home/pbarletta/mambaforge/envs/torch/lib/python3.10/site-packages/MDAnalysis/coordinates/PDB.py:1151: UserWarning: Found no information for attr: 'icodes' Using default value of ' '\n",
      "  warnings.warn(\"Found no information for attr: '{}'\"\n",
      "/home/pbarletta/mambaforge/envs/torch/lib/python3.10/site-packages/MDAnalysis/coordinates/PDB.py:1151: UserWarning: Found no information for attr: 'segids' Using default value of ' '\n",
      "  warnings.warn(\"Found no information for attr: '{}'\"\n",
      "/home/pbarletta/mambaforge/envs/torch/lib/python3.10/site-packages/MDAnalysis/coordinates/PDB.py:1151: UserWarning: Found no information for attr: 'chainIDs' Using default value of ''\n",
      "  warnings.warn(\"Found no information for attr: '{}'\"\n",
      "/home/pbarletta/mambaforge/envs/torch/lib/python3.10/site-packages/MDAnalysis/coordinates/PDB.py:1151: UserWarning: Found no information for attr: 'resids' Using default value of '1'\n",
      "  warnings.warn(\"Found no information for attr: '{}'\"\n",
      "/home/pbarletta/mambaforge/envs/torch/lib/python3.10/site-packages/MDAnalysis/coordinates/PDB.py:1151: UserWarning: Found no information for attr: 'occupancies' Using default value of '1.0'\n",
      "  warnings.warn(\"Found no information for attr: '{}'\"\n",
      "/home/pbarletta/mambaforge/envs/torch/lib/python3.10/site-packages/MDAnalysis/coordinates/PDB.py:1151: UserWarning: Found no information for attr: 'elements' Using default value of ' '\n",
      "  warnings.warn(\"Found no information for attr: '{}'\"\n",
      "/home/pbarletta/mambaforge/envs/torch/lib/python3.10/site-packages/MDAnalysis/coordinates/PDB.py:1151: UserWarning: Found no information for attr: 'record_types' Using default value of 'ATOM'\n",
      "  warnings.warn(\"Found no information for attr: '{}'\"\n",
      "/home/pbarletta/mambaforge/envs/torch/lib/python3.10/site-packages/MDAnalysis/coordinates/PDB.py:1151: UserWarning: Found no information for attr: 'formalcharges' Using default value of '0'\n",
      "  warnings.warn(\"Found no information for attr: '{}'\"\n",
      "/home/pbarletta/mambaforge/envs/torch/lib/python3.10/site-packages/MDAnalysis/coordinates/PDB.py:1198: UserWarning: Found missing chainIDs. Corresponding atoms will use value of 'X'\n",
      "  warnings.warn(\"Found missing chainIDs.\"\n"
     ]
    }
   ],
   "source": [
    "nvoxels = torch.tensor(coords.shape[:-1]).prod().item()\n",
    "flat_coords = coords.view((nvoxels, 3))\n",
    "\n",
    "write_pdb_dots(flat_coords,\n",
    "               voxels.view(flat_coords.shape[0]), flat_coords.shape[0], \"../cubo.pdb\")"
   ],
   "metadata": {
    "collapsed": false,
    "ExecuteTime": {
     "end_time": "2023-11-17T12:55:48.332606345Z",
     "start_time": "2023-11-17T12:55:37.736413245Z"
    }
   }
  },
  {
   "cell_type": "code",
   "execution_count": 6,
   "outputs": [],
   "source": [
    "idx = torch.where(voxels.view(flat_coords.shape[0]))[0]\n",
    "write_pdb_dots(flat_coords[idx],\n",
    "               voxels.view(flat_coords.shape[0])[idx], idx.shape[0], \"../non_zero_cubo.pdb\")"
   ],
   "metadata": {
    "collapsed": false,
    "ExecuteTime": {
     "end_time": "2023-11-17T12:55:50.971036877Z",
     "start_time": "2023-11-17T12:55:48.333817555Z"
    }
   }
  },
  {
   "cell_type": "raw",
   "source": [
    "spectrum b, yellow_blue, minimum=0, maximum=1"
   ],
   "metadata": {
    "collapsed": false
   }
  },
  {
   "cell_type": "markdown",
   "source": [
    "---------"
   ],
   "metadata": {
    "collapsed": false
   }
  },
  {
   "cell_type": "markdown",
   "source": [
    "### old stuff"
   ],
   "metadata": {
    "collapsed": false
   }
  },
  {
   "cell_type": "code",
   "execution_count": null,
   "metadata": {
    "collapsed": false
   },
   "outputs": [],
   "source": [
    "g = gaussian(3, std=.6)\n",
    "g3d = g[None, :, None] @ g[:, None, None] @ g[None, None, :]\n",
    "g3d /= np.sum(g3d)\n",
    "g3d = torch.from_numpy(g3d[None, None, :, :].astype(np.float32))\n",
    "\n",
    "xx = F.conv3d(voxels, g3d, padding=1)"
   ]
  },
  {
   "cell_type": "code",
   "execution_count": null,
   "metadata": {
    "collapsed": false
   },
   "outputs": [],
   "source": [
    "fig, ax = plt.subplots(1, 2)\n",
    "l = 30\n",
    "ax[0].imshow(voxels[0][0][l, :, :])\n",
    "ax[1].imshow(xx[0][0][l, :, :])"
   ]
  }
 ],
 "metadata": {
  "kernelspec": {
   "display_name": "Python 3",
   "language": "python",
   "name": "python3"
  },
  "language_info": {
   "codemirror_mode": {
    "name": "ipython",
    "version": 3
   },
   "file_extension": ".py",
   "mimetype": "text/x-python",
   "name": "python",
   "nbconvert_exporter": "python",
   "pygments_lexer": "ipython3",
   "version": "3.11.0"
  }
 },
 "nbformat": 4,
 "nbformat_minor": 0
}
