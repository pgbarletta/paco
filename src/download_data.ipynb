{
 "cells": [
  {
   "cell_type": "code",
   "execution_count": 271,
   "metadata": {
    "ExecuteTime": {
     "end_time": "2023-11-26T18:47:51.360983147Z",
     "start_time": "2023-11-26T18:47:51.308220592Z"
    }
   },
   "outputs": [],
   "source": [
    "import sys, errno, re, json, ssl\n",
    "from urllib import request\n",
    "from urllib.error import HTTPError\n",
    "from time import sleep\n",
    "from pathlib import Path\n",
    "from tqdm import tqdm\n",
    "from urllib.request import urlretrieve\n",
    "import concurrent.futures as cf\n",
    "import itertools\n",
    "\n",
    "import numpy as np\n",
    "import json\n",
    "import pypdb as p\n",
    "from pypdb import pdb_client\n",
    "from pypdb.clients.search.search_client import perform_search\n",
    "from pypdb.clients.search.search_client import ReturnType\n",
    "from pypdb.clients.search.operators import text_operators\n",
    "from collections import defaultdict\n",
    "import re\n",
    "import requests\n",
    "import os\n",
    "from fix_data import progressbar, download_url\n",
    "\n",
    "data_dir = Path(\"/home/pbarletta/labo/23/paco/data\")\n",
    "raw_data = data_dir / \"raw\""
   ]
  },
  {
   "cell_type": "code",
   "execution_count": 191,
   "outputs": [],
   "source": [
    "def gen_payload(query):\n",
    "    return {\n",
    "        \"query\": {\n",
    "            \"type\": \"group\",\n",
    "            'logical_operator': 'and',\n",
    "            'nodes': [\n",
    "                {\n",
    "                    \"type\": \"terminal\",\n",
    "                    \"service\": \"text\",\n",
    "                    \"parameters\": {\"operator\": \"exact_match\", \"value\": \"Protein (only)\", \"attribute\": \"rcsb_entry_info.selected_polymer_entity_types\"}\n",
    "                },\n",
    "                {\n",
    "                    \"type\": \"terminal\",\n",
    "                    \"service\": \"text\",\n",
    "                    \"parameters\": {\"attribute\": \"rcsb_entry_info.deposited_polymer_entity_instance_count\", \"operator\": \"equals\", \"value\": 1}\n",
    "                },\n",
    "                *[\n",
    "                    {\n",
    "                        \"type\": \"terminal\",\n",
    "                        \"service\": \"text\",\n",
    "                        \"parameters\": {k:v for k,v in zip(['attribute','operator','value'], q)}\n",
    "                    }\n",
    "                for q in query],\n",
    "            ],\n",
    "        },\n",
    "        \"request_options\": {\n",
    "            \"group_by\": {\n",
    "                \"aggregation_method\": \"sequence_identity\",\n",
    "                \"similarity_cutoff\": 50,\n",
    "            },\n",
    "            \"group_by_return_type\": \"representatives\",\n",
    "            \"return_all_hits\": True\n",
    "        },\n",
    "        \"return_type\": \"polymer_entity\"\n",
    "    }"
   ],
   "metadata": {
    "collapsed": false,
    "ExecuteTime": {
     "end_time": "2023-11-26T01:04:31.655022179Z",
     "start_time": "2023-11-26T01:04:31.613792237Z"
    }
   }
  },
  {
   "cell_type": "code",
   "execution_count": 331,
   "outputs": [],
   "source": [
    "query = [(\"rcsb_entry_info.resolution_combined\",\n",
    "          \"less_or_equal\",\n",
    "          2.8)]\n",
    "payload = gen_payload(query)\n",
    "r = requests.get(f\"https://search.rcsb.org/rcsbsearch/v2/query?json={json.dumps(payload)}\")\n",
    "response_dict = json.loads(r.text)\n",
    "ids = [ id[\"identifier\"].split(\"_\")[0] for id in response_dict[\"result_set\"]]"
   ],
   "metadata": {
    "collapsed": false,
    "ExecuteTime": {
     "end_time": "2023-11-26T19:02:38.515587775Z",
     "start_time": "2023-11-26T19:02:36.459948130Z"
    }
   }
  },
  {
   "cell_type": "code",
   "execution_count": 366,
   "outputs": [],
   "source": [
    "def download_pdbs(pdbs, data_dir, progress_bar=False):\n",
    "    if progress_bar:\n",
    "        gtor = tqdm(pdbs)\n",
    "    else:\n",
    "        gtor = pdbs\n",
    "    for entry_id in gtor:\n",
    "        entry_fn = f\"{entry_id}.pdb.gz\"\n",
    "        linc = f\"https://files.rcsb.org/download/{entry_fn}\"\n",
    "        try:\n",
    "            urlretrieve(linc, data_dir / entry_fn)\n",
    "        except HTTPError as e:\n",
    "            print(entry_id, end='\\t')\n",
    "        except Exception as e:\n",
    "            raise e"
   ],
   "metadata": {
    "collapsed": false,
    "ExecuteTime": {
     "end_time": "2023-11-26T19:20:01.036737326Z",
     "start_time": "2023-11-26T19:20:00.966007633Z"
    }
   }
  },
  {
   "cell_type": "code",
   "execution_count": 363,
   "outputs": [],
   "source": [
    "def download_pdbs_parallel(pdbs, data_dir, workers):\n",
    "    with cf.ThreadPoolExecutor(max_workers=workers) as ex:\n",
    "        futuros = []\n",
    "        for chunk in np.array_split(pdbs, workers):\n",
    "            futuros.append(ex.submit(download_pdbs, chunk, data_dir))\n",
    "        \n",
    "        with tqdm(total=workers) as pbar:\n",
    "            for futu in cf.as_completed(futuros):\n",
    "                if futu.exception():\n",
    "                    raise futu.exception()\n",
    "                pbar.update(1)"
   ],
   "metadata": {
    "collapsed": false,
    "ExecuteTime": {
     "end_time": "2023-11-26T19:18:41.961270491Z",
     "start_time": "2023-11-26T19:18:41.874713235Z"
    }
   }
  },
  {
   "cell_type": "code",
   "execution_count": 334,
   "outputs": [
    {
     "name": "stderr",
     "output_type": "stream",
     "text": [
      "  0%|          | 0/2000 [00:00<?, ?it/s]\n"
     ]
    },
    {
     "name": "stdout",
     "output_type": "stream",
     "text": [
      "6TK8\t7BK5\t7QVD\t7ZAF\t8ANX\t6XI3\t6ZNB\t8OPZ\t7Q9R\t7AV4\t6T7N\t6TBY\t8ATJ\t7MHE\t7ZCD\t6SGG\t7AHW\t8P1W\t7NQG\t7Q52\t7OQD\t6TVI\t7NWO\t7ATH\t7TCV\t7UMJ\t7P24\t6YGT\t6T1C\t7L82\t7OMX\t7ZUG\t6Y0K\t8A3K\t7PJ4\t7QNI\t7KV2\t7B0M\t6TXQ\t7OZ8\t6TSB\t7UC3\t6SL9\t7Q2T\t7X5T\t7M1B\t7QD7\t7NZC\t7Z3M\t7N50\t8A5S\t8AMT\t6ZFQ\t7OKR\t8OO4\t7PWI\t7MY1\t7WNS\t6SWZ\t7NVJ\t6Z5O\t7BAY\t6ZM0\t"
     ]
    },
    {
     "ename": "KeyboardInterrupt",
     "evalue": "",
     "output_type": "error",
     "traceback": [
      "\u001B[0;31m---------------------------------------------------------------------------\u001B[0m",
      "\u001B[0;31mOSError\u001B[0m                                   Traceback (most recent call last)",
      "File \u001B[0;32m~/mambaforge/envs/torch/lib/python3.10/urllib/request.py:1348\u001B[0m, in \u001B[0;36mAbstractHTTPHandler.do_open\u001B[0;34m(self, http_class, req, **http_conn_args)\u001B[0m\n\u001B[1;32m   1347\u001B[0m \u001B[38;5;28;01mtry\u001B[39;00m:\n\u001B[0;32m-> 1348\u001B[0m     \u001B[43mh\u001B[49m\u001B[38;5;241;43m.\u001B[39;49m\u001B[43mrequest\u001B[49m\u001B[43m(\u001B[49m\u001B[43mreq\u001B[49m\u001B[38;5;241;43m.\u001B[39;49m\u001B[43mget_method\u001B[49m\u001B[43m(\u001B[49m\u001B[43m)\u001B[49m\u001B[43m,\u001B[49m\u001B[43m \u001B[49m\u001B[43mreq\u001B[49m\u001B[38;5;241;43m.\u001B[39;49m\u001B[43mselector\u001B[49m\u001B[43m,\u001B[49m\u001B[43m \u001B[49m\u001B[43mreq\u001B[49m\u001B[38;5;241;43m.\u001B[39;49m\u001B[43mdata\u001B[49m\u001B[43m,\u001B[49m\u001B[43m \u001B[49m\u001B[43mheaders\u001B[49m\u001B[43m,\u001B[49m\n\u001B[1;32m   1349\u001B[0m \u001B[43m              \u001B[49m\u001B[43mencode_chunked\u001B[49m\u001B[38;5;241;43m=\u001B[39;49m\u001B[43mreq\u001B[49m\u001B[38;5;241;43m.\u001B[39;49m\u001B[43mhas_header\u001B[49m\u001B[43m(\u001B[49m\u001B[38;5;124;43m'\u001B[39;49m\u001B[38;5;124;43mTransfer-encoding\u001B[39;49m\u001B[38;5;124;43m'\u001B[39;49m\u001B[43m)\u001B[49m\u001B[43m)\u001B[49m\n\u001B[1;32m   1350\u001B[0m \u001B[38;5;28;01mexcept\u001B[39;00m \u001B[38;5;167;01mOSError\u001B[39;00m \u001B[38;5;28;01mas\u001B[39;00m err: \u001B[38;5;66;03m# timeout error\u001B[39;00m\n",
      "File \u001B[0;32m~/mambaforge/envs/torch/lib/python3.10/http/client.py:1283\u001B[0m, in \u001B[0;36mHTTPConnection.request\u001B[0;34m(self, method, url, body, headers, encode_chunked)\u001B[0m\n\u001B[1;32m   1282\u001B[0m \u001B[38;5;250m\u001B[39m\u001B[38;5;124;03m\"\"\"Send a complete request to the server.\"\"\"\u001B[39;00m\n\u001B[0;32m-> 1283\u001B[0m \u001B[38;5;28;43mself\u001B[39;49m\u001B[38;5;241;43m.\u001B[39;49m\u001B[43m_send_request\u001B[49m\u001B[43m(\u001B[49m\u001B[43mmethod\u001B[49m\u001B[43m,\u001B[49m\u001B[43m \u001B[49m\u001B[43murl\u001B[49m\u001B[43m,\u001B[49m\u001B[43m \u001B[49m\u001B[43mbody\u001B[49m\u001B[43m,\u001B[49m\u001B[43m \u001B[49m\u001B[43mheaders\u001B[49m\u001B[43m,\u001B[49m\u001B[43m \u001B[49m\u001B[43mencode_chunked\u001B[49m\u001B[43m)\u001B[49m\n",
      "File \u001B[0;32m~/mambaforge/envs/torch/lib/python3.10/http/client.py:1329\u001B[0m, in \u001B[0;36mHTTPConnection._send_request\u001B[0;34m(self, method, url, body, headers, encode_chunked)\u001B[0m\n\u001B[1;32m   1328\u001B[0m     body \u001B[38;5;241m=\u001B[39m _encode(body, \u001B[38;5;124m'\u001B[39m\u001B[38;5;124mbody\u001B[39m\u001B[38;5;124m'\u001B[39m)\n\u001B[0;32m-> 1329\u001B[0m \u001B[38;5;28;43mself\u001B[39;49m\u001B[38;5;241;43m.\u001B[39;49m\u001B[43mendheaders\u001B[49m\u001B[43m(\u001B[49m\u001B[43mbody\u001B[49m\u001B[43m,\u001B[49m\u001B[43m \u001B[49m\u001B[43mencode_chunked\u001B[49m\u001B[38;5;241;43m=\u001B[39;49m\u001B[43mencode_chunked\u001B[49m\u001B[43m)\u001B[49m\n",
      "File \u001B[0;32m~/mambaforge/envs/torch/lib/python3.10/http/client.py:1278\u001B[0m, in \u001B[0;36mHTTPConnection.endheaders\u001B[0;34m(self, message_body, encode_chunked)\u001B[0m\n\u001B[1;32m   1277\u001B[0m     \u001B[38;5;28;01mraise\u001B[39;00m CannotSendHeader()\n\u001B[0;32m-> 1278\u001B[0m \u001B[38;5;28;43mself\u001B[39;49m\u001B[38;5;241;43m.\u001B[39;49m\u001B[43m_send_output\u001B[49m\u001B[43m(\u001B[49m\u001B[43mmessage_body\u001B[49m\u001B[43m,\u001B[49m\u001B[43m \u001B[49m\u001B[43mencode_chunked\u001B[49m\u001B[38;5;241;43m=\u001B[39;49m\u001B[43mencode_chunked\u001B[49m\u001B[43m)\u001B[49m\n",
      "File \u001B[0;32m~/mambaforge/envs/torch/lib/python3.10/http/client.py:1038\u001B[0m, in \u001B[0;36mHTTPConnection._send_output\u001B[0;34m(self, message_body, encode_chunked)\u001B[0m\n\u001B[1;32m   1037\u001B[0m \u001B[38;5;28;01mdel\u001B[39;00m \u001B[38;5;28mself\u001B[39m\u001B[38;5;241m.\u001B[39m_buffer[:]\n\u001B[0;32m-> 1038\u001B[0m \u001B[38;5;28;43mself\u001B[39;49m\u001B[38;5;241;43m.\u001B[39;49m\u001B[43msend\u001B[49m\u001B[43m(\u001B[49m\u001B[43mmsg\u001B[49m\u001B[43m)\u001B[49m\n\u001B[1;32m   1040\u001B[0m \u001B[38;5;28;01mif\u001B[39;00m message_body \u001B[38;5;129;01mis\u001B[39;00m \u001B[38;5;129;01mnot\u001B[39;00m \u001B[38;5;28;01mNone\u001B[39;00m:\n\u001B[1;32m   1041\u001B[0m \n\u001B[1;32m   1042\u001B[0m     \u001B[38;5;66;03m# create a consistent interface to message_body\u001B[39;00m\n",
      "File \u001B[0;32m~/mambaforge/envs/torch/lib/python3.10/http/client.py:976\u001B[0m, in \u001B[0;36mHTTPConnection.send\u001B[0;34m(self, data)\u001B[0m\n\u001B[1;32m    975\u001B[0m \u001B[38;5;28;01mif\u001B[39;00m \u001B[38;5;28mself\u001B[39m\u001B[38;5;241m.\u001B[39mauto_open:\n\u001B[0;32m--> 976\u001B[0m     \u001B[38;5;28;43mself\u001B[39;49m\u001B[38;5;241;43m.\u001B[39;49m\u001B[43mconnect\u001B[49m\u001B[43m(\u001B[49m\u001B[43m)\u001B[49m\n\u001B[1;32m    977\u001B[0m \u001B[38;5;28;01melse\u001B[39;00m:\n",
      "File \u001B[0;32m~/mambaforge/envs/torch/lib/python3.10/http/client.py:1448\u001B[0m, in \u001B[0;36mHTTPSConnection.connect\u001B[0;34m(self)\u001B[0m\n\u001B[1;32m   1446\u001B[0m \u001B[38;5;124m\"\u001B[39m\u001B[38;5;124mConnect to a host on a given (SSL) port.\u001B[39m\u001B[38;5;124m\"\u001B[39m\n\u001B[0;32m-> 1448\u001B[0m \u001B[38;5;28;43msuper\u001B[39;49m\u001B[43m(\u001B[49m\u001B[43m)\u001B[49m\u001B[38;5;241;43m.\u001B[39;49m\u001B[43mconnect\u001B[49m\u001B[43m(\u001B[49m\u001B[43m)\u001B[49m\n\u001B[1;32m   1450\u001B[0m \u001B[38;5;28;01mif\u001B[39;00m \u001B[38;5;28mself\u001B[39m\u001B[38;5;241m.\u001B[39m_tunnel_host:\n",
      "File \u001B[0;32m~/mambaforge/envs/torch/lib/python3.10/http/client.py:942\u001B[0m, in \u001B[0;36mHTTPConnection.connect\u001B[0;34m(self)\u001B[0m\n\u001B[1;32m    941\u001B[0m sys\u001B[38;5;241m.\u001B[39maudit(\u001B[38;5;124m\"\u001B[39m\u001B[38;5;124mhttp.client.connect\u001B[39m\u001B[38;5;124m\"\u001B[39m, \u001B[38;5;28mself\u001B[39m, \u001B[38;5;28mself\u001B[39m\u001B[38;5;241m.\u001B[39mhost, \u001B[38;5;28mself\u001B[39m\u001B[38;5;241m.\u001B[39mport)\n\u001B[0;32m--> 942\u001B[0m \u001B[38;5;28mself\u001B[39m\u001B[38;5;241m.\u001B[39msock \u001B[38;5;241m=\u001B[39m \u001B[38;5;28;43mself\u001B[39;49m\u001B[38;5;241;43m.\u001B[39;49m\u001B[43m_create_connection\u001B[49m\u001B[43m(\u001B[49m\n\u001B[1;32m    943\u001B[0m \u001B[43m    \u001B[49m\u001B[43m(\u001B[49m\u001B[38;5;28;43mself\u001B[39;49m\u001B[38;5;241;43m.\u001B[39;49m\u001B[43mhost\u001B[49m\u001B[43m,\u001B[49m\u001B[38;5;28;43mself\u001B[39;49m\u001B[38;5;241;43m.\u001B[39;49m\u001B[43mport\u001B[49m\u001B[43m)\u001B[49m\u001B[43m,\u001B[49m\u001B[43m \u001B[49m\u001B[38;5;28;43mself\u001B[39;49m\u001B[38;5;241;43m.\u001B[39;49m\u001B[43mtimeout\u001B[49m\u001B[43m,\u001B[49m\u001B[43m \u001B[49m\u001B[38;5;28;43mself\u001B[39;49m\u001B[38;5;241;43m.\u001B[39;49m\u001B[43msource_address\u001B[49m\u001B[43m)\u001B[49m\n\u001B[1;32m    944\u001B[0m \u001B[38;5;66;03m# Might fail in OSs that don't implement TCP_NODELAY\u001B[39;00m\n",
      "File \u001B[0;32m~/mambaforge/envs/torch/lib/python3.10/socket.py:845\u001B[0m, in \u001B[0;36mcreate_connection\u001B[0;34m(address, timeout, source_address)\u001B[0m\n\u001B[1;32m    844\u001B[0m \u001B[38;5;28;01mtry\u001B[39;00m:\n\u001B[0;32m--> 845\u001B[0m     \u001B[38;5;28;01mraise\u001B[39;00m err\n\u001B[1;32m    846\u001B[0m \u001B[38;5;28;01mfinally\u001B[39;00m:\n\u001B[1;32m    847\u001B[0m     \u001B[38;5;66;03m# Break explicitly a reference cycle\u001B[39;00m\n",
      "File \u001B[0;32m~/mambaforge/envs/torch/lib/python3.10/socket.py:833\u001B[0m, in \u001B[0;36mcreate_connection\u001B[0;34m(address, timeout, source_address)\u001B[0m\n\u001B[1;32m    832\u001B[0m     sock\u001B[38;5;241m.\u001B[39mbind(source_address)\n\u001B[0;32m--> 833\u001B[0m \u001B[43msock\u001B[49m\u001B[38;5;241;43m.\u001B[39;49m\u001B[43mconnect\u001B[49m\u001B[43m(\u001B[49m\u001B[43msa\u001B[49m\u001B[43m)\u001B[49m\n\u001B[1;32m    834\u001B[0m \u001B[38;5;66;03m# Break explicitly a reference cycle\u001B[39;00m\n",
      "\u001B[0;31mOSError\u001B[0m: [Errno 113] No route to host",
      "\nDuring handling of the above exception, another exception occurred:\n",
      "\u001B[0;31mURLError\u001B[0m                                  Traceback (most recent call last)",
      "Cell \u001B[0;32mIn[333], line 10\u001B[0m, in \u001B[0;36mdownload_pdbs_parallel\u001B[0;34m(pdbs, data_dir, workers)\u001B[0m\n\u001B[1;32m      9\u001B[0m \u001B[38;5;28;01mif\u001B[39;00m futu\u001B[38;5;241m.\u001B[39mexception():\n\u001B[0;32m---> 10\u001B[0m     \u001B[38;5;28;01mraise\u001B[39;00m futu\u001B[38;5;241m.\u001B[39mexception()\n\u001B[1;32m     11\u001B[0m pbar\u001B[38;5;241m.\u001B[39mupdate(\u001B[38;5;241m1\u001B[39m)\n",
      "File \u001B[0;32m~/mambaforge/envs/torch/lib/python3.10/concurrent/futures/thread.py:58\u001B[0m, in \u001B[0;36m_WorkItem.run\u001B[0;34m(self)\u001B[0m\n\u001B[1;32m     57\u001B[0m \u001B[38;5;28;01mtry\u001B[39;00m:\n\u001B[0;32m---> 58\u001B[0m     result \u001B[38;5;241m=\u001B[39m \u001B[38;5;28;43mself\u001B[39;49m\u001B[38;5;241;43m.\u001B[39;49m\u001B[43mfn\u001B[49m\u001B[43m(\u001B[49m\u001B[38;5;241;43m*\u001B[39;49m\u001B[38;5;28;43mself\u001B[39;49m\u001B[38;5;241;43m.\u001B[39;49m\u001B[43margs\u001B[49m\u001B[43m,\u001B[49m\u001B[43m \u001B[49m\u001B[38;5;241;43m*\u001B[39;49m\u001B[38;5;241;43m*\u001B[39;49m\u001B[38;5;28;43mself\u001B[39;49m\u001B[38;5;241;43m.\u001B[39;49m\u001B[43mkwargs\u001B[49m\u001B[43m)\u001B[49m\n\u001B[1;32m     59\u001B[0m \u001B[38;5;28;01mexcept\u001B[39;00m \u001B[38;5;167;01mBaseException\u001B[39;00m \u001B[38;5;28;01mas\u001B[39;00m exc:\n",
      "Cell \u001B[0;32mIn[332], line 15\u001B[0m, in \u001B[0;36mdownload_pdb\u001B[0;34m(pdbs, data_dir, progress_bar)\u001B[0m\n\u001B[1;32m     14\u001B[0m \u001B[38;5;28;01mexcept\u001B[39;00m \u001B[38;5;167;01mException\u001B[39;00m \u001B[38;5;28;01mas\u001B[39;00m e:\n\u001B[0;32m---> 15\u001B[0m     \u001B[38;5;28;01mraise\u001B[39;00m e\n",
      "Cell \u001B[0;32mIn[332], line 10\u001B[0m, in \u001B[0;36mdownload_pdb\u001B[0;34m(pdbs, data_dir, progress_bar)\u001B[0m\n\u001B[1;32m      9\u001B[0m \u001B[38;5;28;01mtry\u001B[39;00m:\n\u001B[0;32m---> 10\u001B[0m     \u001B[43murlretrieve\u001B[49m\u001B[43m(\u001B[49m\u001B[43mlinc\u001B[49m\u001B[43m,\u001B[49m\u001B[43m \u001B[49m\u001B[43mdata_dir\u001B[49m\u001B[43m \u001B[49m\u001B[38;5;241;43m/\u001B[39;49m\u001B[43m \u001B[49m\u001B[43mentry_fn\u001B[49m\u001B[43m)\u001B[49m\n\u001B[1;32m     11\u001B[0m \u001B[38;5;28;01mexcept\u001B[39;00m HTTPError \u001B[38;5;28;01mas\u001B[39;00m e:\n",
      "File \u001B[0;32m~/mambaforge/envs/torch/lib/python3.10/urllib/request.py:241\u001B[0m, in \u001B[0;36murlretrieve\u001B[0;34m(url, filename, reporthook, data)\u001B[0m\n\u001B[1;32m    239\u001B[0m url_type, path \u001B[38;5;241m=\u001B[39m _splittype(url)\n\u001B[0;32m--> 241\u001B[0m \u001B[38;5;28;01mwith\u001B[39;00m contextlib\u001B[38;5;241m.\u001B[39mclosing(\u001B[43murlopen\u001B[49m\u001B[43m(\u001B[49m\u001B[43murl\u001B[49m\u001B[43m,\u001B[49m\u001B[43m \u001B[49m\u001B[43mdata\u001B[49m\u001B[43m)\u001B[49m) \u001B[38;5;28;01mas\u001B[39;00m fp:\n\u001B[1;32m    242\u001B[0m     headers \u001B[38;5;241m=\u001B[39m fp\u001B[38;5;241m.\u001B[39minfo()\n",
      "File \u001B[0;32m~/mambaforge/envs/torch/lib/python3.10/urllib/request.py:216\u001B[0m, in \u001B[0;36murlopen\u001B[0;34m(url, data, timeout, cafile, capath, cadefault, context)\u001B[0m\n\u001B[1;32m    215\u001B[0m     opener \u001B[38;5;241m=\u001B[39m _opener\n\u001B[0;32m--> 216\u001B[0m \u001B[38;5;28;01mreturn\u001B[39;00m \u001B[43mopener\u001B[49m\u001B[38;5;241;43m.\u001B[39;49m\u001B[43mopen\u001B[49m\u001B[43m(\u001B[49m\u001B[43murl\u001B[49m\u001B[43m,\u001B[49m\u001B[43m \u001B[49m\u001B[43mdata\u001B[49m\u001B[43m,\u001B[49m\u001B[43m \u001B[49m\u001B[43mtimeout\u001B[49m\u001B[43m)\u001B[49m\n",
      "File \u001B[0;32m~/mambaforge/envs/torch/lib/python3.10/urllib/request.py:519\u001B[0m, in \u001B[0;36mOpenerDirector.open\u001B[0;34m(self, fullurl, data, timeout)\u001B[0m\n\u001B[1;32m    518\u001B[0m sys\u001B[38;5;241m.\u001B[39maudit(\u001B[38;5;124m'\u001B[39m\u001B[38;5;124murllib.Request\u001B[39m\u001B[38;5;124m'\u001B[39m, req\u001B[38;5;241m.\u001B[39mfull_url, req\u001B[38;5;241m.\u001B[39mdata, req\u001B[38;5;241m.\u001B[39mheaders, req\u001B[38;5;241m.\u001B[39mget_method())\n\u001B[0;32m--> 519\u001B[0m response \u001B[38;5;241m=\u001B[39m \u001B[38;5;28;43mself\u001B[39;49m\u001B[38;5;241;43m.\u001B[39;49m\u001B[43m_open\u001B[49m\u001B[43m(\u001B[49m\u001B[43mreq\u001B[49m\u001B[43m,\u001B[49m\u001B[43m \u001B[49m\u001B[43mdata\u001B[49m\u001B[43m)\u001B[49m\n\u001B[1;32m    521\u001B[0m \u001B[38;5;66;03m# post-process response\u001B[39;00m\n",
      "File \u001B[0;32m~/mambaforge/envs/torch/lib/python3.10/urllib/request.py:536\u001B[0m, in \u001B[0;36mOpenerDirector._open\u001B[0;34m(self, req, data)\u001B[0m\n\u001B[1;32m    535\u001B[0m protocol \u001B[38;5;241m=\u001B[39m req\u001B[38;5;241m.\u001B[39mtype\n\u001B[0;32m--> 536\u001B[0m result \u001B[38;5;241m=\u001B[39m \u001B[38;5;28;43mself\u001B[39;49m\u001B[38;5;241;43m.\u001B[39;49m\u001B[43m_call_chain\u001B[49m\u001B[43m(\u001B[49m\u001B[38;5;28;43mself\u001B[39;49m\u001B[38;5;241;43m.\u001B[39;49m\u001B[43mhandle_open\u001B[49m\u001B[43m,\u001B[49m\u001B[43m \u001B[49m\u001B[43mprotocol\u001B[49m\u001B[43m,\u001B[49m\u001B[43m \u001B[49m\u001B[43mprotocol\u001B[49m\u001B[43m \u001B[49m\u001B[38;5;241;43m+\u001B[39;49m\n\u001B[1;32m    537\u001B[0m \u001B[43m                          \u001B[49m\u001B[38;5;124;43m'\u001B[39;49m\u001B[38;5;124;43m_open\u001B[39;49m\u001B[38;5;124;43m'\u001B[39;49m\u001B[43m,\u001B[49m\u001B[43m \u001B[49m\u001B[43mreq\u001B[49m\u001B[43m)\u001B[49m\n\u001B[1;32m    538\u001B[0m \u001B[38;5;28;01mif\u001B[39;00m result:\n",
      "File \u001B[0;32m~/mambaforge/envs/torch/lib/python3.10/urllib/request.py:496\u001B[0m, in \u001B[0;36mOpenerDirector._call_chain\u001B[0;34m(self, chain, kind, meth_name, *args)\u001B[0m\n\u001B[1;32m    495\u001B[0m func \u001B[38;5;241m=\u001B[39m \u001B[38;5;28mgetattr\u001B[39m(handler, meth_name)\n\u001B[0;32m--> 496\u001B[0m result \u001B[38;5;241m=\u001B[39m \u001B[43mfunc\u001B[49m\u001B[43m(\u001B[49m\u001B[38;5;241;43m*\u001B[39;49m\u001B[43margs\u001B[49m\u001B[43m)\u001B[49m\n\u001B[1;32m    497\u001B[0m \u001B[38;5;28;01mif\u001B[39;00m result \u001B[38;5;129;01mis\u001B[39;00m \u001B[38;5;129;01mnot\u001B[39;00m \u001B[38;5;28;01mNone\u001B[39;00m:\n",
      "File \u001B[0;32m~/mambaforge/envs/torch/lib/python3.10/urllib/request.py:1391\u001B[0m, in \u001B[0;36mHTTPSHandler.https_open\u001B[0;34m(self, req)\u001B[0m\n\u001B[1;32m   1390\u001B[0m \u001B[38;5;28;01mdef\u001B[39;00m \u001B[38;5;21mhttps_open\u001B[39m(\u001B[38;5;28mself\u001B[39m, req):\n\u001B[0;32m-> 1391\u001B[0m     \u001B[38;5;28;01mreturn\u001B[39;00m \u001B[38;5;28;43mself\u001B[39;49m\u001B[38;5;241;43m.\u001B[39;49m\u001B[43mdo_open\u001B[49m\u001B[43m(\u001B[49m\u001B[43mhttp\u001B[49m\u001B[38;5;241;43m.\u001B[39;49m\u001B[43mclient\u001B[49m\u001B[38;5;241;43m.\u001B[39;49m\u001B[43mHTTPSConnection\u001B[49m\u001B[43m,\u001B[49m\u001B[43m \u001B[49m\u001B[43mreq\u001B[49m\u001B[43m,\u001B[49m\n\u001B[1;32m   1392\u001B[0m \u001B[43m        \u001B[49m\u001B[43mcontext\u001B[49m\u001B[38;5;241;43m=\u001B[39;49m\u001B[38;5;28;43mself\u001B[39;49m\u001B[38;5;241;43m.\u001B[39;49m\u001B[43m_context\u001B[49m\u001B[43m,\u001B[49m\u001B[43m \u001B[49m\u001B[43mcheck_hostname\u001B[49m\u001B[38;5;241;43m=\u001B[39;49m\u001B[38;5;28;43mself\u001B[39;49m\u001B[38;5;241;43m.\u001B[39;49m\u001B[43m_check_hostname\u001B[49m\u001B[43m)\u001B[49m\n",
      "File \u001B[0;32m~/mambaforge/envs/torch/lib/python3.10/urllib/request.py:1351\u001B[0m, in \u001B[0;36mAbstractHTTPHandler.do_open\u001B[0;34m(self, http_class, req, **http_conn_args)\u001B[0m\n\u001B[1;32m   1350\u001B[0m \u001B[38;5;28;01mexcept\u001B[39;00m \u001B[38;5;167;01mOSError\u001B[39;00m \u001B[38;5;28;01mas\u001B[39;00m err: \u001B[38;5;66;03m# timeout error\u001B[39;00m\n\u001B[0;32m-> 1351\u001B[0m     \u001B[38;5;28;01mraise\u001B[39;00m URLError(err)\n\u001B[1;32m   1352\u001B[0m r \u001B[38;5;241m=\u001B[39m h\u001B[38;5;241m.\u001B[39mgetresponse()\n",
      "\u001B[0;31mURLError\u001B[0m: <urlopen error [Errno 113] No route to host>",
      "\nDuring handling of the above exception, another exception occurred:\n",
      "\u001B[0;31mKeyboardInterrupt\u001B[0m                         Traceback (most recent call last)",
      "Cell \u001B[0;32mIn[334], line 4\u001B[0m\n\u001B[1;32m      1\u001B[0m \u001B[38;5;28;01mimport\u001B[39;00m \u001B[38;5;21;01mtime\u001B[39;00m\n\u001B[1;32m      3\u001B[0m start \u001B[38;5;241m=\u001B[39m time\u001B[38;5;241m.\u001B[39mtime()\n\u001B[0;32m----> 4\u001B[0m \u001B[43mdownload_pdbs_parallel\u001B[49m\u001B[43m(\u001B[49m\u001B[43mids\u001B[49m\u001B[43m,\u001B[49m\u001B[43m \u001B[49m\u001B[43mraw_data\u001B[49m\u001B[43m,\u001B[49m\u001B[43m \u001B[49m\u001B[38;5;241;43m2000\u001B[39;49m\u001B[43m)\u001B[49m\n\u001B[1;32m      5\u001B[0m time\u001B[38;5;241m.\u001B[39mtime() \u001B[38;5;241m-\u001B[39m start\n",
      "Cell \u001B[0;32mIn[333], line 2\u001B[0m, in \u001B[0;36mdownload_pdbs_parallel\u001B[0;34m(pdbs, data_dir, workers)\u001B[0m\n\u001B[1;32m      1\u001B[0m \u001B[38;5;28;01mdef\u001B[39;00m \u001B[38;5;21mdownload_pdbs_parallel\u001B[39m(pdbs, data_dir, workers):\n\u001B[0;32m----> 2\u001B[0m     \u001B[38;5;28;01mwith\u001B[39;00m cf\u001B[38;5;241m.\u001B[39mThreadPoolExecutor(max_workers\u001B[38;5;241m=\u001B[39mworkers) \u001B[38;5;28;01mas\u001B[39;00m ex:\n\u001B[1;32m      3\u001B[0m         futuros \u001B[38;5;241m=\u001B[39m []\n\u001B[1;32m      4\u001B[0m         \u001B[38;5;28;01mfor\u001B[39;00m chunk \u001B[38;5;129;01min\u001B[39;00m np\u001B[38;5;241m.\u001B[39marray_split(pdbs, workers):\n",
      "File \u001B[0;32m~/mambaforge/envs/torch/lib/python3.10/concurrent/futures/_base.py:649\u001B[0m, in \u001B[0;36mExecutor.__exit__\u001B[0;34m(self, exc_type, exc_val, exc_tb)\u001B[0m\n\u001B[1;32m    648\u001B[0m \u001B[38;5;28;01mdef\u001B[39;00m \u001B[38;5;21m__exit__\u001B[39m(\u001B[38;5;28mself\u001B[39m, exc_type, exc_val, exc_tb):\n\u001B[0;32m--> 649\u001B[0m     \u001B[38;5;28;43mself\u001B[39;49m\u001B[38;5;241;43m.\u001B[39;49m\u001B[43mshutdown\u001B[49m\u001B[43m(\u001B[49m\u001B[43mwait\u001B[49m\u001B[38;5;241;43m=\u001B[39;49m\u001B[38;5;28;43;01mTrue\u001B[39;49;00m\u001B[43m)\u001B[49m\n\u001B[1;32m    650\u001B[0m     \u001B[38;5;28;01mreturn\u001B[39;00m \u001B[38;5;28;01mFalse\u001B[39;00m\n",
      "File \u001B[0;32m~/mambaforge/envs/torch/lib/python3.10/concurrent/futures/thread.py:235\u001B[0m, in \u001B[0;36mThreadPoolExecutor.shutdown\u001B[0;34m(self, wait, cancel_futures)\u001B[0m\n\u001B[1;32m    233\u001B[0m \u001B[38;5;28;01mif\u001B[39;00m wait:\n\u001B[1;32m    234\u001B[0m     \u001B[38;5;28;01mfor\u001B[39;00m t \u001B[38;5;129;01min\u001B[39;00m \u001B[38;5;28mself\u001B[39m\u001B[38;5;241m.\u001B[39m_threads:\n\u001B[0;32m--> 235\u001B[0m         \u001B[43mt\u001B[49m\u001B[38;5;241;43m.\u001B[39;49m\u001B[43mjoin\u001B[49m\u001B[43m(\u001B[49m\u001B[43m)\u001B[49m\n",
      "File \u001B[0;32m~/mambaforge/envs/torch/lib/python3.10/threading.py:1096\u001B[0m, in \u001B[0;36mThread.join\u001B[0;34m(self, timeout)\u001B[0m\n\u001B[1;32m   1093\u001B[0m     \u001B[38;5;28;01mraise\u001B[39;00m \u001B[38;5;167;01mRuntimeError\u001B[39;00m(\u001B[38;5;124m\"\u001B[39m\u001B[38;5;124mcannot join current thread\u001B[39m\u001B[38;5;124m\"\u001B[39m)\n\u001B[1;32m   1095\u001B[0m \u001B[38;5;28;01mif\u001B[39;00m timeout \u001B[38;5;129;01mis\u001B[39;00m \u001B[38;5;28;01mNone\u001B[39;00m:\n\u001B[0;32m-> 1096\u001B[0m     \u001B[38;5;28;43mself\u001B[39;49m\u001B[38;5;241;43m.\u001B[39;49m\u001B[43m_wait_for_tstate_lock\u001B[49m\u001B[43m(\u001B[49m\u001B[43m)\u001B[49m\n\u001B[1;32m   1097\u001B[0m \u001B[38;5;28;01melse\u001B[39;00m:\n\u001B[1;32m   1098\u001B[0m     \u001B[38;5;66;03m# the behavior of a negative timeout isn't documented, but\u001B[39;00m\n\u001B[1;32m   1099\u001B[0m     \u001B[38;5;66;03m# historically .join(timeout=x) for x<0 has acted as if timeout=0\u001B[39;00m\n\u001B[1;32m   1100\u001B[0m     \u001B[38;5;28mself\u001B[39m\u001B[38;5;241m.\u001B[39m_wait_for_tstate_lock(timeout\u001B[38;5;241m=\u001B[39m\u001B[38;5;28mmax\u001B[39m(timeout, \u001B[38;5;241m0\u001B[39m))\n",
      "File \u001B[0;32m~/mambaforge/envs/torch/lib/python3.10/threading.py:1116\u001B[0m, in \u001B[0;36mThread._wait_for_tstate_lock\u001B[0;34m(self, block, timeout)\u001B[0m\n\u001B[1;32m   1113\u001B[0m     \u001B[38;5;28;01mreturn\u001B[39;00m\n\u001B[1;32m   1115\u001B[0m \u001B[38;5;28;01mtry\u001B[39;00m:\n\u001B[0;32m-> 1116\u001B[0m     \u001B[38;5;28;01mif\u001B[39;00m \u001B[43mlock\u001B[49m\u001B[38;5;241;43m.\u001B[39;49m\u001B[43macquire\u001B[49m\u001B[43m(\u001B[49m\u001B[43mblock\u001B[49m\u001B[43m,\u001B[49m\u001B[43m \u001B[49m\u001B[43mtimeout\u001B[49m\u001B[43m)\u001B[49m:\n\u001B[1;32m   1117\u001B[0m         lock\u001B[38;5;241m.\u001B[39mrelease()\n\u001B[1;32m   1118\u001B[0m         \u001B[38;5;28mself\u001B[39m\u001B[38;5;241m.\u001B[39m_stop()\n",
      "\u001B[0;31mKeyboardInterrupt\u001B[0m: "
     ]
    }
   ],
   "source": [
    "import time\n",
    "\n",
    "start = time.time()\n",
    "download_pdbs_parallel(ids, raw_data, len(ids) // 10)\n",
    "time.time() - start"
   ],
   "metadata": {
    "collapsed": false,
    "ExecuteTime": {
     "end_time": "2023-11-26T19:05:47.028827519Z",
     "start_time": "2023-11-26T19:02:46.182160638Z"
    }
   }
  },
  {
   "cell_type": "code",
   "execution_count": 371,
   "outputs": [],
   "source": [
    "archivos_pdbgz = [ files for root, subdirs, files in os.walk(raw_data) ][0]\n",
    "archivos_pdbgz = { pdb.split('.')[0] for pdb in archivos_pdbgz }\n",
    "\n",
    "sobrantes = archivos_pdbgz - set(ids)\n",
    "faltantes = set(ids) - archivos_pdbgz"
   ],
   "metadata": {
    "collapsed": false,
    "ExecuteTime": {
     "end_time": "2023-11-26T19:26:42.077292165Z",
     "start_time": "2023-11-26T19:26:41.971018805Z"
    }
   }
  },
  {
   "cell_type": "code",
   "execution_count": 374,
   "outputs": [
    {
     "name": "stderr",
     "output_type": "stream",
     "text": [
      "  0%|          | 0/10 [00:00<?, ?it/s]"
     ]
    },
    {
     "name": "stdout",
     "output_type": "stream",
     "text": [
      "8ATJ\t8ANX\t7KV2\t7PJ4\t6Z5O\t6ZN1\t7ATH\t7UC3\t6T1C\t7ATL\t6ZM0\t7X5T\t6T7N\t6T29\t7AVC\t7PWI\t7Q2T\t7B21\t7NXZ\t7NWO\t7NXL\t6TK8\t6XI3\t7B0M\t7QAR\t6T2R\t7ZEN8OO4\t\t7TNB\t7KWC\t7BK5\t7O2Y\t7MY1\t8AOZ\t7M1B\t7NVJ\t7U71\t7ZC0\t7ZAF\t7BAY\t6Y0K\t7Q3C\t6TSB\t6YGT\t7ZUL\t7AV4\t7N51\t6TVI\t8P1W\t7NVK\t7P26\t7N50\t7NSZ\t7OQD6ZI0\t8OQ1\t\t7TCV\t7ZUG\t6TJU\t6TVK\t8A5S\t7QVD\t7Q9R\t6SWZ\t7ZCD\t7NZC\t6TXQ\t7Z3M\t7OMX\t7OUJ\t7QD7\t6ZFQ\t6SGG\t7NZQ7MKR\t7O2T\t7Q52\t\t6SL9\t7OST\t7MHE\t7AHW\t7QNI\t7KV5\t7OZ8\t7NM8\t6TWP\t8OPZ\t6TO3\t7WNS\t7KV4\t7OKR\t6Y0R\t"
     ]
    },
    {
     "name": "stderr",
     "output_type": "stream",
     "text": [
      " 10%|█         | 1/10 [00:11<01:47, 12.00s/it]"
     ]
    },
    {
     "name": "stdout",
     "output_type": "stream",
     "text": [
      "7UMJ\t7EVF\t7P24\t7NZD\t7OZC\t6ZNB\t6YLZ\t7ODJ\t7L82\t"
     ]
    },
    {
     "name": "stderr",
     "output_type": "stream",
     "text": [
      " 60%|██████    | 6/10 [00:12<00:06,  1.63s/it]"
     ]
    },
    {
     "name": "stdout",
     "output_type": "stream",
     "text": [
      "7NQG\t6ZIN\t8A3K\t6TBY\t"
     ]
    },
    {
     "name": "stderr",
     "output_type": "stream",
     "text": [
      " 90%|█████████ | 9/10 [00:13<00:01,  1.07s/it]"
     ]
    },
    {
     "name": "stdout",
     "output_type": "stream",
     "text": [
      "8AMT\t"
     ]
    },
    {
     "name": "stderr",
     "output_type": "stream",
     "text": [
      "100%|██████████| 10/10 [00:14<00:00,  1.42s/it]\n"
     ]
    }
   ],
   "source": [
    "download_pdbs_parallel(np.array(list(faltantes)), raw_data, 10)"
   ],
   "metadata": {
    "collapsed": false,
    "ExecuteTime": {
     "end_time": "2023-11-26T19:29:38.452274250Z",
     "start_time": "2023-11-26T19:29:24.143403911Z"
    }
   }
  },
  {
   "cell_type": "markdown",
   "source": [
    "### por qué hay sobrantes?"
   ],
   "metadata": {
    "collapsed": false
   }
  },
  {
   "cell_type": "code",
   "execution_count": 379,
   "outputs": [
    {
     "data": {
      "text/plain": "[None,\n None,\n None,\n None,\n None,\n None,\n None,\n None,\n None,\n None,\n None,\n None,\n None,\n None,\n None,\n None,\n None,\n None,\n None,\n None,\n None,\n None,\n None,\n None,\n None,\n None,\n None,\n None,\n None,\n None,\n None,\n None,\n None,\n None,\n None,\n None,\n None,\n None,\n None,\n None,\n None,\n None,\n None,\n None,\n None,\n None,\n None,\n None,\n None,\n None,\n None,\n None,\n None,\n None,\n None,\n None,\n None,\n None,\n None,\n None,\n None,\n None,\n None,\n None,\n None,\n None,\n None,\n None,\n None,\n None,\n None,\n None,\n None,\n None,\n None,\n None,\n None,\n None,\n None,\n None,\n None,\n None,\n None,\n None,\n None,\n None,\n None,\n None,\n None,\n None,\n None,\n None,\n None,\n None,\n None,\n None,\n None,\n None,\n None,\n None,\n None,\n None,\n None,\n None,\n None,\n None,\n None,\n None,\n None,\n None,\n None,\n None,\n None,\n None,\n None,\n None,\n None,\n None,\n None,\n None,\n None,\n None,\n None,\n None,\n None,\n None,\n None,\n None,\n None,\n None,\n None,\n None,\n None,\n None,\n None,\n None,\n None,\n None,\n None,\n None,\n None,\n None,\n None,\n None,\n None,\n None,\n None,\n None,\n None,\n None,\n None,\n None,\n None,\n None,\n None,\n None,\n None,\n None,\n None,\n None,\n None,\n None,\n None,\n None,\n None,\n None,\n None,\n None,\n None,\n None,\n None,\n None,\n None,\n None,\n None,\n None,\n None,\n None,\n None,\n None,\n None,\n None,\n None,\n None,\n None,\n None,\n None,\n None,\n None,\n None,\n None,\n None,\n None,\n None,\n None,\n None,\n None,\n None,\n None,\n None,\n None,\n None,\n None,\n None,\n None,\n None,\n None,\n None,\n None,\n None,\n None,\n None,\n None,\n None,\n None,\n None,\n None,\n None,\n None,\n None,\n None,\n None,\n None,\n None,\n None,\n None,\n None,\n None,\n None,\n None,\n None,\n None,\n None,\n None,\n None,\n None,\n None,\n None,\n None,\n None,\n None,\n None,\n None,\n None,\n None,\n None,\n None,\n None,\n None,\n None,\n None,\n None,\n None,\n None,\n None,\n None,\n None,\n None,\n None,\n None,\n None,\n None,\n None,\n None,\n None,\n None,\n None,\n None,\n None,\n None,\n None,\n None,\n None,\n None,\n None,\n None,\n None,\n None,\n None,\n None,\n None,\n None,\n None,\n None,\n None,\n None,\n None,\n None,\n None,\n None,\n None,\n None,\n None,\n None,\n None,\n None,\n None,\n None,\n None,\n None,\n None,\n None,\n None,\n None,\n None,\n None,\n None,\n None,\n None,\n None,\n None,\n None,\n None,\n None,\n None,\n None,\n None,\n None,\n None,\n None,\n None,\n None,\n None,\n None,\n None,\n None,\n None,\n None,\n None,\n None,\n None,\n None,\n None,\n None,\n None,\n None,\n None,\n None,\n None,\n None,\n None,\n None,\n None,\n None,\n None,\n None,\n None,\n None,\n None,\n None,\n None,\n None,\n None,\n None,\n None,\n None,\n None,\n None,\n None,\n None,\n None,\n None,\n None,\n None,\n None,\n None,\n None,\n None,\n None,\n None,\n None,\n None,\n None,\n None,\n None,\n None,\n None,\n None,\n None,\n None,\n None,\n None,\n None,\n None,\n None,\n None,\n None,\n None,\n None,\n None,\n None,\n None,\n None,\n None,\n None,\n None,\n None,\n None,\n None,\n None,\n None,\n None,\n None,\n None,\n None,\n None,\n None,\n None,\n None,\n None,\n None,\n None,\n None,\n None,\n None,\n None,\n None,\n None,\n None,\n None,\n None,\n None,\n None,\n None,\n None,\n None,\n None,\n None,\n None,\n None,\n None,\n None,\n None,\n None,\n None,\n None,\n None,\n None,\n None,\n None,\n None,\n None,\n None,\n None,\n None,\n None,\n None,\n None,\n None,\n None,\n None,\n None,\n None,\n None,\n None,\n None,\n None,\n None,\n None,\n None,\n None,\n None,\n None,\n None,\n None,\n None,\n None,\n None,\n None,\n None,\n None,\n None,\n None,\n None,\n None,\n None,\n None,\n None,\n None,\n None,\n None,\n None,\n None,\n None,\n None,\n None,\n None,\n None,\n None,\n None,\n None,\n None,\n None,\n None,\n None,\n None,\n None,\n None,\n None,\n None,\n None,\n None,\n None,\n None,\n None,\n None,\n None,\n None,\n None,\n None,\n None,\n None,\n None,\n None,\n None,\n None,\n None,\n None,\n None,\n None,\n None,\n None,\n None,\n None,\n None,\n None,\n None,\n None,\n None,\n None,\n None,\n None,\n None,\n None,\n None,\n None,\n None,\n None,\n None,\n None,\n None,\n None,\n None,\n None,\n None,\n None,\n None,\n None,\n None,\n None,\n None,\n None,\n None,\n None,\n None,\n None,\n None,\n None,\n None,\n None,\n None,\n None,\n None,\n None,\n None,\n None,\n None,\n None,\n None,\n None,\n None,\n None,\n None,\n None,\n None,\n None,\n None,\n None,\n None,\n None,\n None,\n None,\n None,\n None,\n None,\n None,\n None,\n None,\n None,\n None,\n None,\n None,\n None,\n None,\n None,\n None,\n None,\n None,\n None,\n None,\n None,\n None,\n None,\n None,\n None,\n None,\n None,\n None,\n None,\n None,\n None,\n None,\n None,\n None,\n None,\n None,\n None,\n None,\n None,\n None,\n None,\n None,\n None,\n None,\n None,\n None,\n None,\n None,\n None,\n None,\n None,\n None,\n None,\n None,\n None,\n None,\n None,\n None,\n None,\n None,\n None,\n None,\n None,\n None,\n None,\n None,\n None,\n None,\n None,\n None,\n None,\n None,\n None,\n None,\n None,\n None,\n None,\n None,\n None,\n None,\n None,\n None,\n None,\n None,\n None,\n None,\n None,\n None,\n None,\n None,\n None,\n None,\n None,\n None,\n None,\n None,\n None,\n None,\n None,\n None,\n None,\n None,\n None,\n None,\n None,\n None,\n None,\n None,\n None,\n None,\n None,\n None,\n None,\n None,\n None,\n None,\n None,\n None,\n None,\n None,\n None,\n None,\n None,\n None,\n None,\n None,\n None,\n None,\n None,\n None,\n None,\n None,\n None,\n None,\n None,\n None,\n None,\n None,\n None,\n None,\n None,\n None,\n None,\n None,\n None,\n None,\n None,\n None,\n None,\n None,\n None,\n None,\n None,\n None,\n None,\n None,\n None,\n None,\n None,\n None,\n None,\n None,\n None,\n None,\n None,\n None,\n None,\n None,\n None,\n None,\n None,\n None,\n None,\n None,\n None,\n None,\n None,\n None,\n None,\n None,\n None,\n None,\n None,\n None,\n None,\n None,\n None,\n None,\n None,\n None,\n None,\n None,\n None,\n None,\n None,\n None,\n None,\n None,\n None,\n None,\n None,\n None,\n None,\n None,\n None,\n None,\n None,\n None,\n None,\n None,\n None,\n None,\n None,\n None,\n None,\n None,\n None,\n None,\n None,\n None,\n None,\n None,\n None,\n None,\n None,\n None,\n None,\n None,\n None,\n None,\n None,\n None,\n None,\n None,\n None,\n None,\n None,\n None,\n None,\n None,\n None,\n None,\n None,\n None,\n None,\n None,\n None,\n None,\n None,\n None,\n None,\n None,\n None,\n None,\n None,\n None,\n None,\n None,\n None,\n None,\n None,\n None,\n None,\n None,\n None,\n None,\n None,\n None,\n None,\n None,\n None,\n None,\n None,\n None,\n None,\n None,\n None,\n None,\n None,\n None,\n None,\n None,\n None,\n None,\n None,\n None,\n None,\n None,\n None,\n None,\n None,\n None,\n None,\n None,\n None,\n None,\n None,\n None,\n None,\n None,\n None,\n None,\n None,\n None,\n None,\n None,\n None,\n None,\n None,\n None,\n None,\n None,\n None,\n None,\n None,\n None,\n None,\n None,\n None,\n None,\n None,\n None,\n None,\n None,\n None,\n None,\n None,\n None,\n None,\n None,\n None,\n None,\n None,\n None,\n None,\n None,\n None,\n None,\n None,\n None,\n None,\n None,\n None,\n None,\n None,\n None,\n None,\n None,\n None,\n None,\n None,\n None,\n None,\n None,\n None,\n None,\n None,\n None,\n None,\n None,\n None,\n None,\n None,\n None,\n None,\n None,\n None,\n None,\n None,\n None,\n None,\n None,\n None,\n None,\n None,\n None,\n None,\n None,\n None,\n None,\n None,\n None,\n None,\n None,\n None,\n None,\n None,\n None,\n None,\n None,\n None,\n None,\n None,\n None,\n None,\n None,\n None,\n None,\n None,\n None,\n None,\n None,\n None,\n None,\n None,\n None,\n None,\n None,\n None,\n None,\n None,\n None,\n None,\n None,\n None,\n None,\n None,\n None,\n None,\n None,\n ...]"
     },
     "execution_count": 379,
     "metadata": {},
     "output_type": "execute_result"
    }
   ],
   "source": [
    "# remove excess PDBs\n",
    "[ Path(raw_data / f\"{entry_id}.pdb.gz\").unlink() for entry_id in sobrantes]"
   ],
   "metadata": {
    "collapsed": false,
    "ExecuteTime": {
     "end_time": "2023-11-26T19:34:11.569377100Z",
     "start_time": "2023-11-26T19:34:11.452336830Z"
    }
   }
  },
  {
   "cell_type": "markdown",
   "source": [
    "-------------"
   ],
   "metadata": {
    "collapsed": false
   }
  },
  {
   "cell_type": "markdown",
   "source": [
    "## Older stuff"
   ],
   "metadata": {
    "collapsed": false
   }
  },
  {
   "cell_type": "code",
   "execution_count": 2,
   "metadata": {},
   "outputs": [],
   "source": [
    "def get_pdbs_from_accession(accession_id: str):\n",
    "  requestURL = \"https://www.ebi.ac.uk/proteins/api/proteins/\" + accession_id\n",
    "  r = requests.get(requestURL, headers={ \"Accept\" : \"application/json\"})\n",
    "\n",
    "  try:\n",
    "    texto = json.loads(r.text)\n",
    "    pdb_list = [ db['id'] for db in texto['dbReferences'] if db['type'] == 'PDB' ]\n",
    "    return pdb_list\n",
    "  except Exception as e:\n",
    "    raise e"
   ]
  },
  {
   "cell_type": "code",
   "execution_count": 5,
   "metadata": {},
   "outputs": [
    {
     "name": "stdout",
     "output_type": "stream",
     "text": [
      "240\n"
     ]
    }
   ],
   "source": [
    "accession_id = \"P04637\"\n",
    "pdb_list = get_pdbs_from_accession(\"P04637\")\n",
    "print(len(pdb_list))"
   ]
  },
  {
   "cell_type": "code",
   "execution_count": 107,
   "metadata": {},
   "outputs": [
    {
     "name": "stdout",
     "output_type": "stream",
     "text": [
      "Sending GET request to https://files.rcsb.org/download/1A1U.pdb to fetch 1A1U's pdb file as a string.\n",
      "Sending GET request to https://files.rcsb.org/download/1AIE.pdb to fetch 1AIE's pdb file as a string.\n",
      "Sending GET request to https://files.rcsb.org/download/1C26.pdb to fetch 1C26's pdb file as a string.\n",
      "Sending GET request to https://files.rcsb.org/download/1DT7.pdb to fetch 1DT7's pdb file as a string.\n",
      "Sending GET request to https://files.rcsb.org/download/1GZH.pdb to fetch 1GZH's pdb file as a string.\n",
      "Sending GET request to https://files.rcsb.org/download/1H26.pdb to fetch 1H26's pdb file as a string.\n",
      "Sending GET request to https://files.rcsb.org/download/1HS5.pdb to fetch 1HS5's pdb file as a string.\n",
      "Sending GET request to https://files.rcsb.org/download/1JSP.pdb to fetch 1JSP's pdb file as a string.\n",
      "Sending GET request to https://files.rcsb.org/download/1KZY.pdb to fetch 1KZY's pdb file as a string.\n",
      "Sending GET request to https://files.rcsb.org/download/1MA3.pdb to fetch 1MA3's pdb file as a string.\n",
      "Sending GET request to https://files.rcsb.org/download/1OLG.pdb to fetch 1OLG's pdb file as a string.\n",
      "Sending GET request to https://files.rcsb.org/download/1OLH.pdb to fetch 1OLH's pdb file as a string.\n",
      "Sending GET request to https://files.rcsb.org/download/1PES.pdb to fetch 1PES's pdb file as a string.\n",
      "Sending GET request to https://files.rcsb.org/download/1PET.pdb to fetch 1PET's pdb file as a string.\n",
      "Sending GET request to https://files.rcsb.org/download/1SAE.pdb to fetch 1SAE's pdb file as a string.\n",
      "Sending GET request to https://files.rcsb.org/download/1SAF.pdb to fetch 1SAF's pdb file as a string.\n",
      "Sending GET request to https://files.rcsb.org/download/1SAK.pdb to fetch 1SAK's pdb file as a string.\n",
      "Sending GET request to https://files.rcsb.org/download/1SAL.pdb to fetch 1SAL's pdb file as a string.\n",
      "Sending GET request to https://files.rcsb.org/download/1TSR.pdb to fetch 1TSR's pdb file as a string.\n",
      "Sending GET request to https://files.rcsb.org/download/1TUP.pdb to fetch 1TUP's pdb file as a string.\n",
      "Sending GET request to https://files.rcsb.org/download/1UOL.pdb to fetch 1UOL's pdb file as a string.\n",
      "Sending GET request to https://files.rcsb.org/download/1XQH.pdb to fetch 1XQH's pdb file as a string.\n",
      "Sending GET request to https://files.rcsb.org/download/1YC5.pdb to fetch 1YC5's pdb file as a string.\n",
      "Sending GET request to https://files.rcsb.org/download/1YCQ.pdb to fetch 1YCQ's pdb file as a string.\n",
      "Sending GET request to https://files.rcsb.org/download/1YCR.pdb to fetch 1YCR's pdb file as a string.\n",
      "Sending GET request to https://files.rcsb.org/download/1YCS.pdb to fetch 1YCS's pdb file as a string.\n",
      "Sending GET request to https://files.rcsb.org/download/2AC0.pdb to fetch 2AC0's pdb file as a string.\n",
      "Sending GET request to https://files.rcsb.org/download/2ADY.pdb to fetch 2ADY's pdb file as a string.\n",
      "Sending GET request to https://files.rcsb.org/download/2AHI.pdb to fetch 2AHI's pdb file as a string.\n",
      "Sending GET request to https://files.rcsb.org/download/2ATA.pdb to fetch 2ATA's pdb file as a string.\n",
      "Sending GET request to https://files.rcsb.org/download/2B3G.pdb to fetch 2B3G's pdb file as a string.\n",
      "Sending GET request to https://files.rcsb.org/download/2BIM.pdb to fetch 2BIM's pdb file as a string.\n",
      "Sending GET request to https://files.rcsb.org/download/2BIN.pdb to fetch 2BIN's pdb file as a string.\n",
      "Sending GET request to https://files.rcsb.org/download/2BIO.pdb to fetch 2BIO's pdb file as a string.\n",
      "Sending GET request to https://files.rcsb.org/download/2BIP.pdb to fetch 2BIP's pdb file as a string.\n",
      "Sending GET request to https://files.rcsb.org/download/2BIQ.pdb to fetch 2BIQ's pdb file as a string.\n",
      "Sending GET request to https://files.rcsb.org/download/2F1X.pdb to fetch 2F1X's pdb file as a string.\n",
      "Sending GET request to https://files.rcsb.org/download/2FEJ.pdb to fetch 2FEJ's pdb file as a string.\n",
      "Sending GET request to https://files.rcsb.org/download/2FOJ.pdb to fetch 2FOJ's pdb file as a string.\n",
      "Sending GET request to https://files.rcsb.org/download/2FOO.pdb to fetch 2FOO's pdb file as a string.\n",
      "Sending GET request to https://files.rcsb.org/download/2GS0.pdb to fetch 2GS0's pdb file as a string.\n",
      "Sending GET request to https://files.rcsb.org/download/2H1L.pdb to fetch 2H1L's pdb file as a string.\n",
      "Sending GET request to https://files.rcsb.org/download/2H2D.pdb to fetch 2H2D's pdb file as a string.\n",
      "Sending GET request to https://files.rcsb.org/download/2H2F.pdb to fetch 2H2F's pdb file as a string.\n",
      "Sending GET request to https://files.rcsb.org/download/2H4F.pdb to fetch 2H4F's pdb file as a string.\n",
      "Sending GET request to https://files.rcsb.org/download/2H4H.pdb to fetch 2H4H's pdb file as a string.\n",
      "Sending GET request to https://files.rcsb.org/download/2H4J.pdb to fetch 2H4J's pdb file as a string.\n",
      "Sending GET request to https://files.rcsb.org/download/2H59.pdb to fetch 2H59's pdb file as a string.\n",
      "Sending GET request to https://files.rcsb.org/download/2J0Z.pdb to fetch 2J0Z's pdb file as a string.\n",
      "Sending GET request to https://files.rcsb.org/download/2J10.pdb to fetch 2J10's pdb file as a string.\n",
      "Sending GET request to https://files.rcsb.org/download/2J11.pdb to fetch 2J11's pdb file as a string.\n",
      "Sending GET request to https://files.rcsb.org/download/2J1W.pdb to fetch 2J1W's pdb file as a string.\n",
      "Sending GET request to https://files.rcsb.org/download/2J1X.pdb to fetch 2J1X's pdb file as a string.\n",
      "Sending GET request to https://files.rcsb.org/download/2J1Y.pdb to fetch 2J1Y's pdb file as a string.\n",
      "Sending GET request to https://files.rcsb.org/download/2J1Z.pdb to fetch 2J1Z's pdb file as a string.\n",
      "Sending GET request to https://files.rcsb.org/download/2J20.pdb to fetch 2J20's pdb file as a string.\n",
      "Sending GET request to https://files.rcsb.org/download/2J21.pdb to fetch 2J21's pdb file as a string.\n",
      "Sending GET request to https://files.rcsb.org/download/2K8F.pdb to fetch 2K8F's pdb file as a string.\n",
      "Sending GET request to https://files.rcsb.org/download/2L14.pdb to fetch 2L14's pdb file as a string.\n",
      "Sending GET request to https://files.rcsb.org/download/2LY4.pdb to fetch 2LY4's pdb file as a string.\n",
      "Sending GET request to https://files.rcsb.org/download/2MEJ.pdb to fetch 2MEJ's pdb file as a string.\n",
      "Sending GET request to https://files.rcsb.org/download/2MWO.pdb to fetch 2MWO's pdb file as a string.\n",
      "Sending GET request to https://files.rcsb.org/download/2MWP.pdb to fetch 2MWP's pdb file as a string.\n",
      "Sending GET request to https://files.rcsb.org/download/2MWY.pdb to fetch 2MWY's pdb file as a string.\n",
      "Sending GET request to https://files.rcsb.org/download/2MZD.pdb to fetch 2MZD's pdb file as a string.\n",
      "Sending GET request to https://files.rcsb.org/download/2OCJ.pdb to fetch 2OCJ's pdb file as a string.\n",
      "Sending GET request to https://files.rcsb.org/download/2PCX.pdb to fetch 2PCX's pdb file as a string.\n",
      "Sending GET request to https://files.rcsb.org/download/2RUK.pdb to fetch 2RUK's pdb file as a string.\n",
      "Sending GET request to https://files.rcsb.org/download/2VUK.pdb to fetch 2VUK's pdb file as a string.\n",
      "Sending GET request to https://files.rcsb.org/download/2WGX.pdb to fetch 2WGX's pdb file as a string.\n",
      "Sending GET request to https://files.rcsb.org/download/2X0U.pdb to fetch 2X0U's pdb file as a string.\n",
      "Sending GET request to https://files.rcsb.org/download/2X0V.pdb to fetch 2X0V's pdb file as a string.\n",
      "Sending GET request to https://files.rcsb.org/download/2X0W.pdb to fetch 2X0W's pdb file as a string.\n",
      "Sending GET request to https://files.rcsb.org/download/2XWR.pdb to fetch 2XWR's pdb file as a string.\n",
      "Sending GET request to https://files.rcsb.org/download/2YBG.pdb to fetch 2YBG's pdb file as a string.\n",
      "Sending GET request to https://files.rcsb.org/download/2YDR.pdb to fetch 2YDR's pdb file as a string.\n",
      "Sending GET request to https://files.rcsb.org/download/2Z5S.pdb to fetch 2Z5S's pdb file as a string.\n",
      "Sending GET request to https://files.rcsb.org/download/2Z5T.pdb to fetch 2Z5T's pdb file as a string.\n",
      "Sending GET request to https://files.rcsb.org/download/3D05.pdb to fetch 3D05's pdb file as a string.\n",
      "Sending GET request to https://files.rcsb.org/download/3D06.pdb to fetch 3D06's pdb file as a string.\n",
      "Sending GET request to https://files.rcsb.org/download/3D07.pdb to fetch 3D07's pdb file as a string.\n",
      "Sending GET request to https://files.rcsb.org/download/3D08.pdb to fetch 3D08's pdb file as a string.\n",
      "Sending GET request to https://files.rcsb.org/download/3D09.pdb to fetch 3D09's pdb file as a string.\n",
      "Sending GET request to https://files.rcsb.org/download/3D0A.pdb to fetch 3D0A's pdb file as a string.\n",
      "Sending GET request to https://files.rcsb.org/download/3DAB.pdb to fetch 3DAB's pdb file as a string.\n",
      "Sending GET request to https://files.rcsb.org/download/3DAC.pdb to fetch 3DAC's pdb file as a string.\n",
      "Sending GET request to https://files.rcsb.org/download/3IGK.pdb to fetch 3IGK's pdb file as a string.\n",
      "Sending GET request to https://files.rcsb.org/download/3IGL.pdb to fetch 3IGL's pdb file as a string.\n",
      "Sending GET request to https://files.rcsb.org/download/3KMD.pdb to fetch 3KMD's pdb file as a string.\n",
      "Sending GET request to https://files.rcsb.org/download/3KZ8.pdb to fetch 3KZ8's pdb file as a string.\n",
      "Sending GET request to https://files.rcsb.org/download/3LW1.pdb to fetch 3LW1's pdb file as a string.\n",
      "Sending GET request to https://files.rcsb.org/download/3OQ5.pdb to fetch 3OQ5's pdb file as a string.\n",
      "Sending GET request to https://files.rcsb.org/download/3PDH.pdb to fetch 3PDH's pdb file as a string.\n",
      "Sending GET request to https://files.rcsb.org/download/3Q01.pdb to fetch 3Q01's pdb file as a string.\n",
      "Sending GET request to https://files.rcsb.org/download/3Q05.pdb to fetch 3Q05's pdb file as a string.\n",
      "Sending GET request to https://files.rcsb.org/download/3Q06.pdb to fetch 3Q06's pdb file as a string.\n",
      "Sending GET request to https://files.rcsb.org/download/3SAK.pdb to fetch 3SAK's pdb file as a string.\n",
      "Sending GET request to https://files.rcsb.org/download/3TG5.pdb to fetch 3TG5's pdb file as a string.\n",
      "Sending GET request to https://files.rcsb.org/download/3TS8.pdb to fetch 3TS8's pdb file as a string.\n",
      "Sending GET request to https://files.rcsb.org/download/3ZME.pdb to fetch 3ZME's pdb file as a string.\n",
      "Sending GET request to https://files.rcsb.org/download/4AGL.pdb to fetch 4AGL's pdb file as a string.\n",
      "Sending GET request to https://files.rcsb.org/download/4AGM.pdb to fetch 4AGM's pdb file as a string.\n",
      "Sending GET request to https://files.rcsb.org/download/4AGN.pdb to fetch 4AGN's pdb file as a string.\n",
      "Sending GET request to https://files.rcsb.org/download/4AGO.pdb to fetch 4AGO's pdb file as a string.\n",
      "Sending GET request to https://files.rcsb.org/download/4AGP.pdb to fetch 4AGP's pdb file as a string.\n",
      "Sending GET request to https://files.rcsb.org/download/4AGQ.pdb to fetch 4AGQ's pdb file as a string.\n",
      "Sending GET request to https://files.rcsb.org/download/4BUZ.pdb to fetch 4BUZ's pdb file as a string.\n",
      "Sending GET request to https://files.rcsb.org/download/4BV2.pdb to fetch 4BV2's pdb file as a string.\n",
      "Sending GET request to https://files.rcsb.org/download/4HFZ.pdb to fetch 4HFZ's pdb file as a string.\n",
      "Sending GET request to https://files.rcsb.org/download/4HJE.pdb to fetch 4HJE's pdb file as a string.\n",
      "Sending GET request to https://files.rcsb.org/download/4IBQ.pdb to fetch 4IBQ's pdb file as a string.\n",
      "Sending GET request to https://files.rcsb.org/download/4IBS.pdb to fetch 4IBS's pdb file as a string.\n",
      "Sending GET request to https://files.rcsb.org/download/4IBT.pdb to fetch 4IBT's pdb file as a string.\n",
      "Sending GET request to https://files.rcsb.org/download/4IBU.pdb to fetch 4IBU's pdb file as a string.\n",
      "Sending GET request to https://files.rcsb.org/download/4IBV.pdb to fetch 4IBV's pdb file as a string.\n",
      "Sending GET request to https://files.rcsb.org/download/4IBW.pdb to fetch 4IBW's pdb file as a string.\n",
      "Sending GET request to https://files.rcsb.org/download/4IBY.pdb to fetch 4IBY's pdb file as a string.\n",
      "Sending GET request to https://files.rcsb.org/download/4IBZ.pdb to fetch 4IBZ's pdb file as a string.\n",
      "Sending GET request to https://files.rcsb.org/download/4IJT.pdb to fetch 4IJT's pdb file as a string.\n",
      "Sending GET request to https://files.rcsb.org/download/4KVP.pdb to fetch 4KVP's pdb file as a string.\n",
      "Sending GET request to https://files.rcsb.org/download/4LO9.pdb to fetch 4LO9's pdb file as a string.\n",
      "Sending GET request to https://files.rcsb.org/download/4LOE.pdb to fetch 4LOE's pdb file as a string.\n",
      "Sending GET request to https://files.rcsb.org/download/4LOF.pdb to fetch 4LOF's pdb file as a string.\n",
      "Sending GET request to https://files.rcsb.org/download/4MZI.pdb to fetch 4MZI's pdb file as a string.\n",
      "Sending GET request to https://files.rcsb.org/download/4MZR.pdb to fetch 4MZR's pdb file as a string.\n",
      "Sending GET request to https://files.rcsb.org/download/4QO1.pdb to fetch 4QO1's pdb file as a string.\n",
      "Sending GET request to https://files.rcsb.org/download/4RP6.pdb to fetch 4RP6's pdb file as a string.\n",
      "Sending GET request to https://files.rcsb.org/download/4RP7.pdb to fetch 4RP7's pdb file as a string.\n",
      "Sending GET request to https://files.rcsb.org/download/4X34.pdb to fetch 4X34's pdb file as a string.\n",
      "Sending GET request to https://files.rcsb.org/download/4XR8.pdb to fetch 4XR8's pdb file as a string.\n",
      "Sending GET request to https://files.rcsb.org/download/4ZZJ.pdb to fetch 4ZZJ's pdb file as a string.\n",
      "Sending GET request to https://files.rcsb.org/download/5A7B.pdb to fetch 5A7B's pdb file as a string.\n",
      "Sending GET request to https://files.rcsb.org/download/5AB9.pdb to fetch 5AB9's pdb file as a string.\n",
      "Sending GET request to https://files.rcsb.org/download/5ABA.pdb to fetch 5ABA's pdb file as a string.\n",
      "Sending GET request to https://files.rcsb.org/download/5AOI.pdb to fetch 5AOI's pdb file as a string.\n",
      "Sending GET request to https://files.rcsb.org/download/5AOJ.pdb to fetch 5AOJ's pdb file as a string.\n",
      "Sending GET request to https://files.rcsb.org/download/5AOK.pdb to fetch 5AOK's pdb file as a string.\n",
      "Sending GET request to https://files.rcsb.org/download/5AOL.pdb to fetch 5AOL's pdb file as a string.\n",
      "Sending GET request to https://files.rcsb.org/download/5AOM.pdb to fetch 5AOM's pdb file as a string.\n",
      "Sending GET request to https://files.rcsb.org/download/5BUA.pdb to fetch 5BUA's pdb file as a string.\n",
      "Sending GET request to https://files.rcsb.org/download/5ECG.pdb to fetch 5ECG's pdb file as a string.\n",
      "Sending GET request to https://files.rcsb.org/download/5G4M.pdb to fetch 5G4M's pdb file as a string.\n",
      "Sending GET request to https://files.rcsb.org/download/5G4N.pdb to fetch 5G4N's pdb file as a string.\n",
      "Sending GET request to https://files.rcsb.org/download/5G4O.pdb to fetch 5G4O's pdb file as a string.\n",
      "Sending GET request to https://files.rcsb.org/download/5HOU.pdb to fetch 5HOU's pdb file as a string.\n",
      "Sending GET request to https://files.rcsb.org/download/5HP0.pdb to fetch 5HP0's pdb file as a string.\n",
      "Sending GET request to https://files.rcsb.org/download/5HPD.pdb to fetch 5HPD's pdb file as a string.\n",
      "Sending GET request to https://files.rcsb.org/download/5LAP.pdb to fetch 5LAP's pdb file as a string.\n",
      "Sending GET request to https://files.rcsb.org/download/5LGY.pdb to fetch 5LGY's pdb file as a string.\n",
      "Sending GET request to https://files.rcsb.org/download/5MCT.pdb to fetch 5MCT's pdb file as a string.\n",
      "Sending GET request to https://files.rcsb.org/download/5MCU.pdb to fetch 5MCU's pdb file as a string.\n",
      "Sending GET request to https://files.rcsb.org/download/5MCV.pdb to fetch 5MCV's pdb file as a string.\n",
      "Sending GET request to https://files.rcsb.org/download/5MCW.pdb to fetch 5MCW's pdb file as a string.\n",
      "Sending GET request to https://files.rcsb.org/download/5MF7.pdb to fetch 5MF7's pdb file as a string.\n",
      "Sending GET request to https://files.rcsb.org/download/5MG7.pdb to fetch 5MG7's pdb file as a string.\n",
      "Sending GET request to https://files.rcsb.org/download/5MHC.pdb to fetch 5MHC's pdb file as a string.\n",
      "Sending GET request to https://files.rcsb.org/download/5MOC.pdb to fetch 5MOC's pdb file as a string.\n",
      "Sending GET request to https://files.rcsb.org/download/5O1A.pdb to fetch 5O1A's pdb file as a string.\n",
      "Sending GET request to https://files.rcsb.org/download/5O1B.pdb to fetch 5O1B's pdb file as a string.\n",
      "Sending GET request to https://files.rcsb.org/download/5O1C.pdb to fetch 5O1C's pdb file as a string.\n",
      "Sending GET request to https://files.rcsb.org/download/5O1D.pdb to fetch 5O1D's pdb file as a string.\n",
      "Sending GET request to https://files.rcsb.org/download/5O1E.pdb to fetch 5O1E's pdb file as a string.\n",
      "Sending GET request to https://files.rcsb.org/download/5O1F.pdb to fetch 5O1F's pdb file as a string.\n",
      "Sending GET request to https://files.rcsb.org/download/5O1G.pdb to fetch 5O1G's pdb file as a string.\n",
      "Sending GET request to https://files.rcsb.org/download/5O1H.pdb to fetch 5O1H's pdb file as a string.\n",
      "Sending GET request to https://files.rcsb.org/download/5O1I.pdb to fetch 5O1I's pdb file as a string.\n",
      "Sending GET request to https://files.rcsb.org/download/5OL0.pdb to fetch 5OL0's pdb file as a string.\n",
      "Sending GET request to https://files.rcsb.org/download/5UN8.pdb to fetch 5UN8's pdb file as a string.\n",
      "Sending GET request to https://files.rcsb.org/download/5XZC.pdb to fetch 5XZC's pdb file as a string.\n",
      "Sending GET request to https://files.rcsb.org/download/6FF9.pdb to fetch 6FF9's pdb file as a string.\n",
      "Sending GET request to https://files.rcsb.org/download/6FJ5.pdb to fetch 6FJ5's pdb file as a string.\n",
      "Sending GET request to https://files.rcsb.org/download/6GGA.pdb to fetch 6GGA's pdb file as a string.\n",
      "Sending GET request to https://files.rcsb.org/download/6GGB.pdb to fetch 6GGB's pdb file as a string.\n",
      "Sending GET request to https://files.rcsb.org/download/6GGC.pdb to fetch 6GGC's pdb file as a string.\n",
      "Sending GET request to https://files.rcsb.org/download/6GGD.pdb to fetch 6GGD's pdb file as a string.\n",
      "Sending GET request to https://files.rcsb.org/download/6GGE.pdb to fetch 6GGE's pdb file as a string.\n",
      "Sending GET request to https://files.rcsb.org/download/6GGF.pdb to fetch 6GGF's pdb file as a string.\n",
      "Sending GET request to https://files.rcsb.org/download/6LHD.pdb to fetch 6LHD's pdb file as a string.\n",
      "Sending GET request to https://files.rcsb.org/download/6R5L.pdb to fetch 6R5L's pdb file as a string.\n",
      "Sending GET request to https://files.rcsb.org/download/6RJZ.pdb to fetch 6RJZ's pdb file as a string.\n",
      "Sending GET request to https://files.rcsb.org/download/6RK8.pdb to fetch 6RK8's pdb file as a string.\n",
      "Sending GET request to https://files.rcsb.org/download/6RKI.pdb to fetch 6RKI's pdb file as a string.\n",
      "Sending GET request to https://files.rcsb.org/download/6RKK.pdb to fetch 6RKK's pdb file as a string.\n",
      "Sending GET request to https://files.rcsb.org/download/6RKM.pdb to fetch 6RKM's pdb file as a string.\n",
      "Sending GET request to https://files.rcsb.org/download/6RL3.pdb to fetch 6RL3's pdb file as a string.\n",
      "Sending GET request to https://files.rcsb.org/download/6RL4.pdb to fetch 6RL4's pdb file as a string.\n",
      "Sending GET request to https://files.rcsb.org/download/6RL6.pdb to fetch 6RL6's pdb file as a string.\n",
      "Sending GET request to https://files.rcsb.org/download/6RM5.pdb to fetch 6RM5's pdb file as a string.\n",
      "Sending GET request to https://files.rcsb.org/download/6RM7.pdb to fetch 6RM7's pdb file as a string.\n",
      "Sending GET request to https://files.rcsb.org/download/6RWH.pdb to fetch 6RWH's pdb file as a string.\n",
      "Sending GET request to https://files.rcsb.org/download/6RWI.pdb to fetch 6RWI's pdb file as a string.\n",
      "Sending GET request to https://files.rcsb.org/download/6RWS.pdb to fetch 6RWS's pdb file as a string.\n",
      "Sending GET request to https://files.rcsb.org/download/6RWU.pdb to fetch 6RWU's pdb file as a string.\n",
      "Sending GET request to https://files.rcsb.org/download/6RX2.pdb to fetch 6RX2's pdb file as a string.\n",
      "Sending GET request to https://files.rcsb.org/download/6RZ3.pdb to fetch 6RZ3's pdb file as a string.\n",
      "Sending GET request to https://files.rcsb.org/download/6S39.pdb to fetch 6S39's pdb file as a string.\n",
      "Sending GET request to https://files.rcsb.org/download/6S3C.pdb to fetch 6S3C's pdb file as a string.\n",
      "Sending GET request to https://files.rcsb.org/download/6S40.pdb to fetch 6S40's pdb file as a string.\n",
      "Sending GET request to https://files.rcsb.org/download/6S9Q.pdb to fetch 6S9Q's pdb file as a string.\n",
      "Sending GET request to https://files.rcsb.org/download/6SHZ.pdb to fetch 6SHZ's pdb file as a string.\n",
      "Sending GET request to https://files.rcsb.org/download/6SI0.pdb to fetch 6SI0's pdb file as a string.\n",
      "Sending GET request to https://files.rcsb.org/download/6SI1.pdb to fetch 6SI1's pdb file as a string.\n",
      "Sending GET request to https://files.rcsb.org/download/6SI2.pdb to fetch 6SI2's pdb file as a string.\n",
      "Sending GET request to https://files.rcsb.org/download/6SI3.pdb to fetch 6SI3's pdb file as a string.\n",
      "Sending GET request to https://files.rcsb.org/download/6SI4.pdb to fetch 6SI4's pdb file as a string.\n",
      "Sending GET request to https://files.rcsb.org/download/6SIN.pdb to fetch 6SIN's pdb file as a string.\n",
      "Sending GET request to https://files.rcsb.org/download/6SIO.pdb to fetch 6SIO's pdb file as a string.\n",
      "Sending GET request to https://files.rcsb.org/download/6SIP.pdb to fetch 6SIP's pdb file as a string.\n",
      "Sending GET request to https://files.rcsb.org/download/6SIQ.pdb to fetch 6SIQ's pdb file as a string.\n",
      "Sending GET request to https://files.rcsb.org/download/6SL6.pdb to fetch 6SL6's pdb file as a string.\n",
      "Sending GET request to https://files.rcsb.org/download/6SLV.pdb to fetch 6SLV's pdb file as a string.\n",
      "Sending GET request to https://files.rcsb.org/download/6T58.pdb to fetch 6T58's pdb file as a string.\n",
      "Sending GET request to https://files.rcsb.org/download/6V4F.pdb to fetch 6V4F's pdb file as a string.\n",
      "Sending GET request to https://files.rcsb.org/download/6V4H.pdb to fetch 6V4H's pdb file as a string.\n",
      "Sending GET request to https://files.rcsb.org/download/6VQO.pdb to fetch 6VQO's pdb file as a string.\n",
      "Sending GET request to https://files.rcsb.org/download/6VR1.pdb to fetch 6VR1's pdb file as a string.\n",
      "Sending GET request to https://files.rcsb.org/download/6VR5.pdb to fetch 6VR5's pdb file as a string.\n",
      "Sending GET request to https://files.rcsb.org/download/6VRM.pdb to fetch 6VRM's pdb file as a string.\n",
      "Sending GET request to https://files.rcsb.org/download/6VRN.pdb to fetch 6VRN's pdb file as a string.\n",
      "Sending GET request to https://files.rcsb.org/download/6W51.pdb to fetch 6W51's pdb file as a string.\n",
      "Sending GET request to https://files.rcsb.org/download/6XRE.pdb to fetch 6XRE's pdb file as a string.\n",
      "Sending GET request to https://files.rcsb.org/download/6ZNC.pdb to fetch 6ZNC's pdb file as a string.\n",
      "Sending GET request to https://files.rcsb.org/download/7B46.pdb to fetch 7B46's pdb file as a string.\n",
      "Sending GET request to https://files.rcsb.org/download/7B47.pdb to fetch 7B47's pdb file as a string.\n",
      "Sending GET request to https://files.rcsb.org/download/7B48.pdb to fetch 7B48's pdb file as a string.\n",
      "Sending GET request to https://files.rcsb.org/download/7B49.pdb to fetch 7B49's pdb file as a string.\n",
      "Sending GET request to https://files.rcsb.org/download/7B4A.pdb to fetch 7B4A's pdb file as a string.\n",
      "Sending GET request to https://files.rcsb.org/download/7B4B.pdb to fetch 7B4B's pdb file as a string.\n",
      "Sending GET request to https://files.rcsb.org/download/7B4C.pdb to fetch 7B4C's pdb file as a string.\n",
      "Sending GET request to https://files.rcsb.org/download/7B4D.pdb to fetch 7B4D's pdb file as a string.\n",
      "Sending GET request to https://files.rcsb.org/download/7B4E.pdb to fetch 7B4E's pdb file as a string.\n",
      "Sending GET request to https://files.rcsb.org/download/7B4F.pdb to fetch 7B4F's pdb file as a string.\n",
      "Sending GET request to https://files.rcsb.org/download/7B4G.pdb to fetch 7B4G's pdb file as a string.\n",
      "Sending GET request to https://files.rcsb.org/download/7B4H.pdb to fetch 7B4H's pdb file as a string.\n",
      "Sending GET request to https://files.rcsb.org/download/7B4N.pdb to fetch 7B4N's pdb file as a string.\n",
      "Sending GET request to https://files.rcsb.org/download/7BWN.pdb to fetch 7BWN's pdb file as a string.\n",
      "Sending GET request to https://files.rcsb.org/download/7DHY.pdb to fetch 7DHY's pdb file as a string.\n",
      "Sending GET request to https://files.rcsb.org/download/7DHZ.pdb to fetch 7DHZ's pdb file as a string.\n",
      "Sending GET request to https://files.rcsb.org/download/7DVD.pdb to fetch 7DVD's pdb file as a string.\n",
      "Sending GET request to https://files.rcsb.org/download/7EL4.pdb to fetch 7EL4's pdb file as a string.\n"
     ]
    }
   ],
   "source": [
    "record = defaultdict(list)\n",
    "pattern_str_strict = re.compile(r\"EXPRESSION_SYSTEM:\")\n",
    "pattern_nbr_strict = re.compile(r\"EXPRESSION_SYSTEM_TAXID:\")\n",
    "pattern_str = re.compile(r\"EXPRESSION_SYSTEM:.*\\n\")\n",
    "pattern_nbr = re.compile(r\"EXPRESSION_SYSTEM_TAXID:.*\\n\")\n",
    "\n",
    "listarella = ['1A1U', '2OCJ']\n",
    "\n",
    "for pdbid in pdb_list:\n",
    "    chunk = pdb_client.get_pdb_file(pdbid, pdb_client.PDBFileType.PDB)\n",
    "    beg_str = re.search(pattern_str, chunk)\n",
    "    beg_nbr = re.search(pattern_nbr, chunk)\n",
    "    \n",
    "    system = \"\"\n",
    "    taxid = 0\n",
    "    if beg_str:\n",
    "        idx_system_raw = re.search(pattern_str_strict, beg_str.group()).span()[1]\n",
    "        system = beg_str.group()[idx_system_raw:].strip().removesuffix(';')\n",
    "    if beg_nbr:\n",
    "        idx_taxid_raw = re.search(pattern_nbr_strict, beg_nbr.group()).span()[1]\n",
    "        taxid = beg_nbr.group()[idx_taxid_raw:].strip().removesuffix(';')\n",
    "    \n",
    "    record[(system, taxid)].append(pdbid)"
   ]
  },
  {
   "cell_type": "code",
   "execution_count": 108,
   "metadata": {},
   "outputs": [
    {
     "data": {
      "text/plain": [
       "defaultdict(list,\n",
       "            {('ESCHERICHIA COLI', '562'): ['1A1U',\n",
       "              '1C26',\n",
       "              '1DT7',\n",
       "              '1GZH',\n",
       "              '1H26',\n",
       "              '1HS5',\n",
       "              '1MA3',\n",
       "              '1TSR',\n",
       "              '1TUP',\n",
       "              '1UOL',\n",
       "              '1YC5',\n",
       "              '1YCQ',\n",
       "              '1YCR',\n",
       "              '1YCS',\n",
       "              '2AC0',\n",
       "              '2ADY',\n",
       "              '2AHI',\n",
       "              '2ATA',\n",
       "              '2BIM',\n",
       "              '2BIN',\n",
       "              '2BIO',\n",
       "              '2BIP',\n",
       "              '2BIQ',\n",
       "              '2FEJ',\n",
       "              '2GS0',\n",
       "              '2H1L',\n",
       "              '2H2D',\n",
       "              '2H2F',\n",
       "              '2H59',\n",
       "              '2J1W',\n",
       "              '2J1X',\n",
       "              '2J1Y',\n",
       "              '2J1Z',\n",
       "              '2J20',\n",
       "              '2J21',\n",
       "              '2K8F',\n",
       "              '2L14',\n",
       "              '2LY4',\n",
       "              '2MWO',\n",
       "              '2MWP',\n",
       "              '2MZD',\n",
       "              '2RUK',\n",
       "              '2WGX',\n",
       "              '2X0U',\n",
       "              '2X0V',\n",
       "              '2X0W',\n",
       "              '2XWR',\n",
       "              '2YBG',\n",
       "              '3D05',\n",
       "              '3D06',\n",
       "              '3D07',\n",
       "              '3D08',\n",
       "              '3D09',\n",
       "              '3D0A',\n",
       "              '3DAB',\n",
       "              '3DAC',\n",
       "              '3LW1',\n",
       "              '3PDH',\n",
       "              '3TS8',\n",
       "              '4AGL',\n",
       "              '4AGM',\n",
       "              '4AGN',\n",
       "              '4AGO',\n",
       "              '4AGP',\n",
       "              '4AGQ',\n",
       "              '4HJE',\n",
       "              '4MZI',\n",
       "              '4MZR',\n",
       "              '4QO1',\n",
       "              '4ZZJ',\n",
       "              '5A7B',\n",
       "              '5AB9',\n",
       "              '5ABA',\n",
       "              '5AOI',\n",
       "              '5AOJ',\n",
       "              '5AOK',\n",
       "              '5AOL',\n",
       "              '5AOM',\n",
       "              '5G4M',\n",
       "              '5G4N',\n",
       "              '5G4O',\n",
       "              '5LAP',\n",
       "              '5MOC',\n",
       "              '5O1A',\n",
       "              '5O1B',\n",
       "              '5O1C',\n",
       "              '5O1D',\n",
       "              '5O1E',\n",
       "              '5O1F',\n",
       "              '5O1G',\n",
       "              '5O1H',\n",
       "              '5O1I',\n",
       "              '5OL0',\n",
       "              '6FF9',\n",
       "              '6GGA',\n",
       "              '6GGB',\n",
       "              '6GGC',\n",
       "              '6GGD',\n",
       "              '6GGE',\n",
       "              '6GGF',\n",
       "              '6LHD',\n",
       "              '6R5L',\n",
       "              '6RJZ',\n",
       "              '6RK8',\n",
       "              '6RKI',\n",
       "              '6RKK',\n",
       "              '6RKM',\n",
       "              '6RL3',\n",
       "              '6RL4',\n",
       "              '6RL6',\n",
       "              '6RM5',\n",
       "              '6RM7',\n",
       "              '6RWH',\n",
       "              '6RWI',\n",
       "              '6RWS',\n",
       "              '6RWU',\n",
       "              '6RX2',\n",
       "              '6S39',\n",
       "              '6S3C',\n",
       "              '6S40',\n",
       "              '6S9Q',\n",
       "              '6SHZ',\n",
       "              '6SI0',\n",
       "              '6SI1',\n",
       "              '6SI2',\n",
       "              '6SI3',\n",
       "              '6SI4',\n",
       "              '6SIN',\n",
       "              '6SIO',\n",
       "              '6SIP',\n",
       "              '6SIQ',\n",
       "              '6SL6',\n",
       "              '6SLV',\n",
       "              '6T58',\n",
       "              '6V4F',\n",
       "              '6V4H',\n",
       "              '6VQO',\n",
       "              '6VR1',\n",
       "              '6VR5',\n",
       "              '6VRM',\n",
       "              '6VRN',\n",
       "              '7BWN',\n",
       "              '7DHY',\n",
       "              '7DHZ'],\n",
       "             ('ESCHERICHIA COLI BL21', '511693'): ['1AIE', '1JSP', '3ZME'],\n",
       "             ('ESCHERICHIA COLI BL21(DE3)', '469008'): ['1KZY',\n",
       "              '1XQH',\n",
       "              '2B3G',\n",
       "              '2F1X',\n",
       "              '2FOJ',\n",
       "              '2FOO',\n",
       "              '2H4F',\n",
       "              '2H4H',\n",
       "              '2H4J',\n",
       "              '2OCJ',\n",
       "              '2PCX',\n",
       "              '2Z5S',\n",
       "              '4X34',\n",
       "              '5BUA',\n",
       "              '5ECG',\n",
       "              '5LGY',\n",
       "              '5MCT',\n",
       "              '5MCU',\n",
       "              '5MCV',\n",
       "              '5MCW',\n",
       "              '5MF7',\n",
       "              '5MG7',\n",
       "              '6FJ5',\n",
       "              '6RZ3',\n",
       "              '6W51',\n",
       "              '6ZNC',\n",
       "              '7B46',\n",
       "              '7B47',\n",
       "              '7B48',\n",
       "              '7B49',\n",
       "              '7B4A',\n",
       "              '7B4B',\n",
       "              '7B4C',\n",
       "              '7B4D',\n",
       "              '7B4E',\n",
       "              '7B4F',\n",
       "              '7B4G',\n",
       "              '7B4H',\n",
       "              '7B4N',\n",
       "              '7DVD'],\n",
       "             ('', 0): ['1OLG',\n",
       "              '1OLH',\n",
       "              '1PES',\n",
       "              '1PET',\n",
       "              '1SAE',\n",
       "              '1SAF',\n",
       "              '1SAK',\n",
       "              '1SAL',\n",
       "              '2J0Z',\n",
       "              '2J10',\n",
       "              '2J11',\n",
       "              '3KMD',\n",
       "              '3SAK',\n",
       "              '4RP6',\n",
       "              '4RP7'],\n",
       "             ('ESCHERICHIA COLI', '469008'): ['2MEJ',\n",
       "              '2MWY',\n",
       "              '2YDR',\n",
       "              '3IGK',\n",
       "              '3IGL',\n",
       "              '3KZ8',\n",
       "              '3OQ5',\n",
       "              '3Q01',\n",
       "              '3Q05',\n",
       "              '3Q06',\n",
       "              '4BUZ',\n",
       "              '4BV2',\n",
       "              '4HFZ',\n",
       "              '4IBQ',\n",
       "              '4IBS',\n",
       "              '4IBT',\n",
       "              '4IBU',\n",
       "              '4IBV',\n",
       "              '4IBW',\n",
       "              '4IBY',\n",
       "              '4IBZ',\n",
       "              '4IJT',\n",
       "              '4KVP',\n",
       "              '4LO9',\n",
       "              '4LOE',\n",
       "              '4LOF',\n",
       "              '5HOU',\n",
       "              '5HP0',\n",
       "              '5HPD'],\n",
       "             ('ESCHERICHIA COLI', '511693'): ['2VUK', '5MHC'],\n",
       "             ('ESCHERICHIA COLI', 0): ['2Z5T'],\n",
       "             ('SPODOPTERA FRUGIPERDA', '7108'): ['3TG5', '5XZC'],\n",
       "             ('ESCHERICHIA COLI K-12', '83333'): ['4XR8', '7EL4'],\n",
       "             ('ESCHERICHIA COLI-PICHIA PASTORIS SHUTTLE VECTOR',\n",
       "              '1182032'): ['5UN8'],\n",
       "             ('UNIDENTIFIED BACULOVIRUS', '10469'): ['6XRE']})"
      ]
     },
     "execution_count": 108,
     "metadata": {},
     "output_type": "execute_result"
    }
   ],
   "source": [
    "record"
   ]
  },
  {
   "cell_type": "code",
   "execution_count": 103,
   "metadata": {},
   "outputs": [
    {
     "data": {
      "text/plain": [
       "defaultdict(list,\n",
       "            {('ESCHERICHIA COLI', '562'): '1A1U',\n",
       "             ('ESCHERICHIA COLI BL21(DE3)', '469008;'): '2OCJ'})"
      ]
     },
     "execution_count": 103,
     "metadata": {},
     "output_type": "execute_result"
    }
   ],
   "source": [
    "record"
   ]
  },
  {
   "cell_type": "code",
   "execution_count": 95,
   "metadata": {},
   "outputs": [
    {
     "data": {
      "text/plain": [
       "24"
      ]
     },
     "execution_count": 95,
     "metadata": {},
     "output_type": "execute_result"
    }
   ],
   "source": [
    "re.search(pattern_nbr_strict, beg_nbr.group()).span()[1]"
   ]
  },
  {
   "cell_type": "code",
   "execution_count": 96,
   "metadata": {},
   "outputs": [
    {
     "data": {
      "text/plain": [
       "0"
      ]
     },
     "execution_count": 96,
     "metadata": {},
     "output_type": "execute_result"
    }
   ],
   "source": [
    "taxid"
   ]
  },
  {
   "cell_type": "code",
   "execution_count": null,
   "metadata": {},
   "outputs": [],
   "source": [
    "for i, j in record:\n",
    "    print(i, j, record[i,j])\n",
    "\n",
    "for i in range(0,75):\n",
    "    print('-o', end='')\n",
    "print()\n",
    "dict_id_amount = dict()\n",
    "for i, j in record:\n",
    "    dict_id_amount[i,j] = len(record[i, j])\n",
    "    print(i, j + '--> ', dict_id_amount[i,j])"
   ]
  },
  {
   "attachments": {},
   "cell_type": "markdown",
   "metadata": {},
   "source": [
    "---"
   ]
  },
  {
   "cell_type": "code",
   "execution_count": 24,
   "metadata": {},
   "outputs": [],
   "source": [
    "BASE_URL = \"https://www.ebi.ac.uk:443/interpro/api/protein/UniProt/structure/PDB/\" +\\\n",
    "  \"1afv/?id=&page_size=200\"\n",
    "\n",
    "def output_list():\n",
    "  #disable SSL verification to avoid config issues\n",
    "  context = ssl._create_unverified_context()\n",
    "\n",
    "  next = BASE_URL\n",
    "  last_page = False\n",
    "\n",
    "  \n",
    "  #json header\n",
    "  sys.stdout.write(\"{ \\\"results\\\": [\\n\")\n",
    "  \n",
    "  attempts = 0\n",
    "  while next:\n",
    "    try:\n",
    "      req = request.Request(next, headers={\"Accept\": \"application/json\"})\n",
    "      res = request.urlopen(req, context=context)\n",
    "      # If the API times out due a long running query\n",
    "      if res.status == 408:\n",
    "        # wait just over a minute\n",
    "        sleep(61)\n",
    "        # then continue this loop with the same URL\n",
    "        continue\n",
    "      elif res.status == 204:\n",
    "        #no data so leave loop\n",
    "        break\n",
    "      payload = json.loads(res.read().decode())\n",
    "      next = payload[\"next\"]\n",
    "      attempts = 0\n",
    "      if not next:\n",
    "        last_page = True\n",
    "    except HTTPError as e:\n",
    "      if e.code == 408:\n",
    "        sleep(61)\n",
    "        continue\n",
    "      else:\n",
    "        # If there is a different HTTP error, it wil re-try 3 times before failing\n",
    "        if attempts < 3:\n",
    "          attempts += 1\n",
    "          sleep(61)\n",
    "          continue\n",
    "        else:\n",
    "          sys.stderr.write(\"LAST URL: \" + next)\n",
    "          raise e\n",
    "\n",
    "    for i, item in enumerate(payload[\"results\"]):\n",
    "      \n",
    "      sys.stdout.write(json.dumps(item))\n",
    "      # for indented output replace the above line with the following\n",
    "      # sys.stdout.write(json.dumps(item, indent=4))\n",
    "      # for 1 record per line uncomment the following line\n",
    "      # sys.stdout.write(\"\\n\")\n",
    "\n",
    "      if last_page and i+1 == len(payload[\"results\"]):\n",
    "        sys.stdout.write(\"\")\n",
    "      else:\n",
    "        sys.stdout.write(\",\\n\")\n",
    "    \n",
    "  return payload"
   ]
  },
  {
   "cell_type": "code",
   "execution_count": 25,
   "metadata": {},
   "outputs": [
    {
     "name": "stdout",
     "output_type": "stream",
     "text": [
      "{ \"results\": [\n",
      "{\"metadata\": {\"accession\": \"P12497\", \"name\": \"Gag-Pol polyprotein\", \"source_database\": \"reviewed\", \"length\": 1435, \"source_organism\": {\"taxId\": \"11698\", \"scientificName\": \"Human immunodeficiency virus type 1 group M subtype B (isolate NY5)\", \"fullName\": \"Human immunodeficiency virus type 1 group M subtype B (isolate NY5) (HIV-1)\"}}, \"structures\": [{\"structure_protein_locations\": [{\"fragments\": [{\"start\": 133, \"end\": 283}]}], \"protein_structure_mapping\": {\"A\": [{\"protein_start\": 133, \"protein_end\": 283, \"structure_start\": 1, \"structure_end\": 151, \"author_structure_start\": 1, \"author_structure_end\": 151}], \"B\": [{\"protein_start\": 133, \"protein_end\": 283, \"structure_start\": 1, \"structure_end\": 151, \"author_structure_start\": 1, \"author_structure_end\": 151}]}, \"organism\": {\"taxid\": \"11698\"}, \"accession\": \"1afv\", \"chain\": \"A\", \"protein_length\": 1435, \"resolution\": 3.7, \"experiment_type\": \"x-ray\", \"source_database\": \"pdb\", \"entry_protein_locations\": [{\"fragments\": [{\"start\": 276, \"end\": 349, \"dc-status\": \"CONTINUOUS\"}], \"model\": null, \"score\": null}], \"protein\": \"p12497\", \"structure\": {\"accession\": \"1afv\", \"name\": {\"name\": \"HIV-1 CAPSID PROTEIN (P24) COMPLEX WITH FAB25.3\"}, \"experiment_type\": \"x-ray\", \"release_date\": \"1997-08-20T00:00:00Z\", \"literature\": {\"0\": {\"PMID\": 8784350, \"volume\": \"3\", \"year\": 1996, \"title\": \"Crystal structure of dimeric HIV-1 capsid protein.\", \"raw_pages\": \"763-770\", \"ISO_journal\": \"Nat. Struct. Biol.\", \"authors\": [\"Momany, C.\", \"Kovari, L.C.\", \"Prongay, A.J.\", \"Keller, W.\", \"Gitti, R.K.\", \"Lee, B.M.\", \"Gorbalenya, A.E.\", \"Tong, L.\", \"McClure, J.\", \"Ehrlich, L.S.\", \"Summers, M.F.\", \"Carter, C.\", \"Rossmann, M.G.\"], \"DOI_URL\": \"10.1038/nsb0996-763\", \"type\": \"J\"}, \"1\": {\"PMID\": 8747455, \"volume\": \"3\", \"year\": 1995, \"title\": \"The use of antibody fragments for crystallization and structure determinations.\", \"raw_pages\": \"1291\", \"ISO_journal\": \"Structure\", \"authors\": [\"Kovari, L.C.\", \"Momany, C.\", \"Rossmann, M.G.\"], \"DOI_URL\": \".1016/s0969-2126(01)00266-0\", \"type\": \"J\"}, \"2\": {\"PMID\": 2124709, \"volume\": \"87\", \"year\": 1990, \"title\": \"Preparation and crystallization of a human immunodeficiency virus p24-Fab complex.\", \"raw_pages\": \"9980\", \"ISO_journal\": \"Proc Natl Acad Sci U S A\", \"authors\": [\"Prongay, A.J.\", \"Smith, T.J.\", \"Rossmann, M.G.\", \"Ehrlich, L.S.\", \"Carter, C.A.\", \"McClure, J.\"], \"DOI_URL\": \".1073/pnas.87.24.9980\", \"type\": \"B\"}, \"3\": {\"PMID\": 2123631, \"volume\": \"6\", \"year\": 1990, \"title\": \"Expression in Escherichia coli and purification of human immunodeficiency virus type 1 capsid protein (p24).\", \"raw_pages\": \"1169\", \"ISO_journal\": \"AIDS Res Hum Retroviruses\", \"authors\": [\"Ehrlich, L.S.\", \"Krausslich, H.G.\", \"Wimmer, E.\", \"Carter, C.A.\"], \"DOI_URL\": \".1089/aid.1990.6.1169\", \"type\": \"B\"}}, \"chains\": [\"A\", \"B\", \"H\", \"K\"], \"resolution\": 3.7, \"source_database\": \"pdb\", \"counters\": {\"sets\": 3, \"entries\": 27, \"proteins\": 2, \"taxa\": 2, \"proteomes\": 0}}}, {\"structure_protein_locations\": [{\"fragments\": [{\"start\": 133, \"end\": 283}]}], \"protein_structure_mapping\": {\"A\": [{\"protein_start\": 133, \"protein_end\": 283, \"structure_start\": 1, \"structure_end\": 151, \"author_structure_start\": 1, \"author_structure_end\": 151}], \"B\": [{\"protein_start\": 133, \"protein_end\": 283, \"structure_start\": 1, \"structure_end\": 151, \"author_structure_start\": 1, \"author_structure_end\": 151}]}, \"organism\": {\"taxid\": \"11698\"}, \"accession\": \"1afv\", \"chain\": \"B\", \"protein_length\": 1435, \"resolution\": 3.7, \"experiment_type\": \"x-ray\", \"source_database\": \"pdb\", \"entry_protein_locations\": [{\"fragments\": [{\"start\": 131, \"end\": 289, \"dc-status\": \"CONTINUOUS\"}], \"model\": null, \"score\": null}], \"protein\": \"p12497\", \"structure\": {\"accession\": \"1afv\", \"name\": {\"name\": \"HIV-1 CAPSID PROTEIN (P24) COMPLEX WITH FAB25.3\"}, \"experiment_type\": \"x-ray\", \"release_date\": \"1997-08-20T00:00:00Z\", \"literature\": {\"0\": {\"PMID\": 8784350, \"volume\": \"3\", \"year\": 1996, \"title\": \"Crystal structure of dimeric HIV-1 capsid protein.\", \"raw_pages\": \"763-770\", \"ISO_journal\": \"Nat. Struct. Biol.\", \"authors\": [\"Momany, C.\", \"Kovari, L.C.\", \"Prongay, A.J.\", \"Keller, W.\", \"Gitti, R.K.\", \"Lee, B.M.\", \"Gorbalenya, A.E.\", \"Tong, L.\", \"McClure, J.\", \"Ehrlich, L.S.\", \"Summers, M.F.\", \"Carter, C.\", \"Rossmann, M.G.\"], \"DOI_URL\": \"10.1038/nsb0996-763\", \"type\": \"J\"}, \"1\": {\"PMID\": 8747455, \"volume\": \"3\", \"year\": 1995, \"title\": \"The use of antibody fragments for crystallization and structure determinations.\", \"raw_pages\": \"1291\", \"ISO_journal\": \"Structure\", \"authors\": [\"Kovari, L.C.\", \"Momany, C.\", \"Rossmann, M.G.\"], \"DOI_URL\": \".1016/s0969-2126(01)00266-0\", \"type\": \"J\"}, \"2\": {\"PMID\": 2124709, \"volume\": \"87\", \"year\": 1990, \"title\": \"Preparation and crystallization of a human immunodeficiency virus p24-Fab complex.\", \"raw_pages\": \"9980\", \"ISO_journal\": \"Proc Natl Acad Sci U S A\", \"authors\": [\"Prongay, A.J.\", \"Smith, T.J.\", \"Rossmann, M.G.\", \"Ehrlich, L.S.\", \"Carter, C.A.\", \"McClure, J.\"], \"DOI_URL\": \".1073/pnas.87.24.9980\", \"type\": \"B\"}, \"3\": {\"PMID\": 2123631, \"volume\": \"6\", \"year\": 1990, \"title\": \"Expression in Escherichia coli and purification of human immunodeficiency virus type 1 capsid protein (p24).\", \"raw_pages\": \"1169\", \"ISO_journal\": \"AIDS Res Hum Retroviruses\", \"authors\": [\"Ehrlich, L.S.\", \"Krausslich, H.G.\", \"Wimmer, E.\", \"Carter, C.A.\"], \"DOI_URL\": \".1089/aid.1990.6.1169\", \"type\": \"B\"}}, \"chains\": [\"A\", \"B\", \"H\", \"K\"], \"resolution\": 3.7, \"source_database\": \"pdb\", \"counters\": {\"sets\": 3, \"entries\": 27, \"proteins\": 2, \"taxa\": 2, \"proteomes\": 0}}}]},\n",
      "{\"metadata\": {\"accession\": \"Q99LC4\", \"name\": \"Igh protein\", \"source_database\": \"unreviewed\", \"length\": 463, \"source_organism\": {\"taxId\": \"10090\", \"scientificName\": \"Mus musculus\", \"fullName\": \"Mus musculus (Mouse)\"}}, \"structures\": [{\"structure_protein_locations\": [{\"fragments\": [{\"start\": 20, \"end\": 239}]}], \"protein_structure_mapping\": {\"H\": [{\"protein_start\": 20, \"protein_end\": 239, \"structure_start\": 1, \"structure_end\": 220, \"author_structure_start\": 1, \"author_structure_end\": 220}], \"K\": [{\"protein_start\": 20, \"protein_end\": 239, \"structure_start\": 1, \"structure_end\": 220, \"author_structure_start\": 1, \"author_structure_end\": 220}]}, \"organism\": {\"taxid\": \"10090\"}, \"accession\": \"1afv\", \"chain\": \"H\", \"protein_length\": 463, \"resolution\": 3.7, \"experiment_type\": \"x-ray\", \"source_database\": \"pdb\", \"entry_protein_locations\": [{\"fragments\": [{\"start\": 17, \"end\": 142, \"dc-status\": \"CONTINUOUS\"}], \"model\": null, \"score\": null}, {\"fragments\": [{\"start\": 143, \"end\": 245, \"dc-status\": \"CONTINUOUS\"}], \"model\": null, \"score\": null}, {\"fragments\": [{\"start\": 246, \"end\": 353, \"dc-status\": \"CONTINUOUS\"}], \"model\": null, \"score\": null}, {\"fragments\": [{\"start\": 354, \"end\": 463, \"dc-status\": \"CONTINUOUS\"}], \"model\": null, \"score\": null}], \"protein\": \"q99lc4\", \"structure\": {\"accession\": \"1afv\", \"name\": {\"name\": \"HIV-1 CAPSID PROTEIN (P24) COMPLEX WITH FAB25.3\"}, \"experiment_type\": \"x-ray\", \"release_date\": \"1997-08-20T00:00:00Z\", \"literature\": {\"0\": {\"PMID\": 8784350, \"volume\": \"3\", \"year\": 1996, \"title\": \"Crystal structure of dimeric HIV-1 capsid protein.\", \"raw_pages\": \"763-770\", \"ISO_journal\": \"Nat. Struct. Biol.\", \"authors\": [\"Momany, C.\", \"Kovari, L.C.\", \"Prongay, A.J.\", \"Keller, W.\", \"Gitti, R.K.\", \"Lee, B.M.\", \"Gorbalenya, A.E.\", \"Tong, L.\", \"McClure, J.\", \"Ehrlich, L.S.\", \"Summers, M.F.\", \"Carter, C.\", \"Rossmann, M.G.\"], \"DOI_URL\": \"10.1038/nsb0996-763\", \"type\": \"J\"}, \"1\": {\"PMID\": 8747455, \"volume\": \"3\", \"year\": 1995, \"title\": \"The use of antibody fragments for crystallization and structure determinations.\", \"raw_pages\": \"1291\", \"ISO_journal\": \"Structure\", \"authors\": [\"Kovari, L.C.\", \"Momany, C.\", \"Rossmann, M.G.\"], \"DOI_URL\": \".1016/s0969-2126(01)00266-0\", \"type\": \"J\"}, \"2\": {\"PMID\": 2124709, \"volume\": \"87\", \"year\": 1990, \"title\": \"Preparation and crystallization of a human immunodeficiency virus p24-Fab complex.\", \"raw_pages\": \"9980\", \"ISO_journal\": \"Proc Natl Acad Sci U S A\", \"authors\": [\"Prongay, A.J.\", \"Smith, T.J.\", \"Rossmann, M.G.\", \"Ehrlich, L.S.\", \"Carter, C.A.\", \"McClure, J.\"], \"DOI_URL\": \".1073/pnas.87.24.9980\", \"type\": \"B\"}, \"3\": {\"PMID\": 2123631, \"volume\": \"6\", \"year\": 1990, \"title\": \"Expression in Escherichia coli and purification of human immunodeficiency virus type 1 capsid protein (p24).\", \"raw_pages\": \"1169\", \"ISO_journal\": \"AIDS Res Hum Retroviruses\", \"authors\": [\"Ehrlich, L.S.\", \"Krausslich, H.G.\", \"Wimmer, E.\", \"Carter, C.A.\"], \"DOI_URL\": \".1089/aid.1990.6.1169\", \"type\": \"B\"}}, \"chains\": [\"A\", \"B\", \"H\", \"K\"], \"resolution\": 3.7, \"source_database\": \"pdb\", \"counters\": {\"sets\": 3, \"entries\": 27, \"proteins\": 2, \"taxa\": 2, \"proteomes\": 0}}}, {\"structure_protein_locations\": [{\"fragments\": [{\"start\": 20, \"end\": 239}]}], \"protein_structure_mapping\": {\"H\": [{\"protein_start\": 20, \"protein_end\": 239, \"structure_start\": 1, \"structure_end\": 220, \"author_structure_start\": 1, \"author_structure_end\": 220}], \"K\": [{\"protein_start\": 20, \"protein_end\": 239, \"structure_start\": 1, \"structure_end\": 220, \"author_structure_start\": 1, \"author_structure_end\": 220}]}, \"organism\": {\"taxid\": \"10090\"}, \"accession\": \"1afv\", \"chain\": \"K\", \"protein_length\": 463, \"resolution\": 3.7, \"experiment_type\": \"x-ray\", \"source_database\": \"pdb\", \"entry_protein_locations\": [{\"fragments\": [{\"start\": 20, \"end\": 138, \"dc-status\": \"CONTINUOUS\"}], \"model\": null, \"score\": null}, {\"fragments\": [{\"start\": 143, \"end\": 239, \"dc-status\": \"CONTINUOUS\"}], \"model\": null, \"score\": null}, {\"fragments\": [{\"start\": 246, \"end\": 355, \"dc-status\": \"CONTINUOUS\"}], \"model\": null, \"score\": null}, {\"fragments\": [{\"start\": 361, \"end\": 453, \"dc-status\": \"CONTINUOUS\"}], \"model\": null, \"score\": null}], \"protein\": \"q99lc4\", \"structure\": {\"accession\": \"1afv\", \"name\": {\"name\": \"HIV-1 CAPSID PROTEIN (P24) COMPLEX WITH FAB25.3\"}, \"experiment_type\": \"x-ray\", \"release_date\": \"1997-08-20T00:00:00Z\", \"literature\": {\"0\": {\"PMID\": 8784350, \"volume\": \"3\", \"year\": 1996, \"title\": \"Crystal structure of dimeric HIV-1 capsid protein.\", \"raw_pages\": \"763-770\", \"ISO_journal\": \"Nat. Struct. Biol.\", \"authors\": [\"Momany, C.\", \"Kovari, L.C.\", \"Prongay, A.J.\", \"Keller, W.\", \"Gitti, R.K.\", \"Lee, B.M.\", \"Gorbalenya, A.E.\", \"Tong, L.\", \"McClure, J.\", \"Ehrlich, L.S.\", \"Summers, M.F.\", \"Carter, C.\", \"Rossmann, M.G.\"], \"DOI_URL\": \"10.1038/nsb0996-763\", \"type\": \"J\"}, \"1\": {\"PMID\": 8747455, \"volume\": \"3\", \"year\": 1995, \"title\": \"The use of antibody fragments for crystallization and structure determinations.\", \"raw_pages\": \"1291\", \"ISO_journal\": \"Structure\", \"authors\": [\"Kovari, L.C.\", \"Momany, C.\", \"Rossmann, M.G.\"], \"DOI_URL\": \".1016/s0969-2126(01)00266-0\", \"type\": \"J\"}, \"2\": {\"PMID\": 2124709, \"volume\": \"87\", \"year\": 1990, \"title\": \"Preparation and crystallization of a human immunodeficiency virus p24-Fab complex.\", \"raw_pages\": \"9980\", \"ISO_journal\": \"Proc Natl Acad Sci U S A\", \"authors\": [\"Prongay, A.J.\", \"Smith, T.J.\", \"Rossmann, M.G.\", \"Ehrlich, L.S.\", \"Carter, C.A.\", \"McClure, J.\"], \"DOI_URL\": \".1073/pnas.87.24.9980\", \"type\": \"B\"}, \"3\": {\"PMID\": 2123631, \"volume\": \"6\", \"year\": 1990, \"title\": \"Expression in Escherichia coli and purification of human immunodeficiency virus type 1 capsid protein (p24).\", \"raw_pages\": \"1169\", \"ISO_journal\": \"AIDS Res Hum Retroviruses\", \"authors\": [\"Ehrlich, L.S.\", \"Krausslich, H.G.\", \"Wimmer, E.\", \"Carter, C.A.\"], \"DOI_URL\": \".1089/aid.1990.6.1169\", \"type\": \"B\"}}, \"chains\": [\"A\", \"B\", \"H\", \"K\"], \"resolution\": 3.7, \"source_database\": \"pdb\", \"counters\": {\"sets\": 3, \"entries\": 27, \"proteins\": 2, \"taxa\": 2, \"proteomes\": 0}}}]}"
     ]
    }
   ],
   "source": [
    "a = output_list()"
   ]
  },
  {
   "cell_type": "code",
   "execution_count": 20,
   "metadata": {},
   "outputs": [],
   "source": [
    "b = a[\"results\"][0]"
   ]
  },
  {
   "cell_type": "code",
   "execution_count": 23,
   "metadata": {},
   "outputs": [
    {
     "data": {
      "text/plain": [
       "'P00533'"
      ]
     },
     "execution_count": 23,
     "metadata": {},
     "output_type": "execute_result"
    }
   ],
   "source": [
    "b[\"metadata\"][\"accession\"]"
   ]
  },
  {
   "cell_type": "code",
   "execution_count": 31,
   "metadata": {},
   "outputs": [
    {
     "data": {
      "text/plain": [
       "('P12497', 'Q99LC4')"
      ]
     },
     "execution_count": 31,
     "metadata": {},
     "output_type": "execute_result"
    }
   ],
   "source": [
    "a[\"results\"][0][\"metadata\"][\"accession\"], a[\"results\"][1][\"metadata\"][\"accession\"]"
   ]
  },
  {
   "cell_type": "code",
   "execution_count": 32,
   "metadata": {},
   "outputs": [
    {
     "data": {
      "text/plain": [
       "{'accession': 'P12497',\n",
       " 'name': 'Gag-Pol polyprotein',\n",
       " 'source_database': 'reviewed',\n",
       " 'length': 1435,\n",
       " 'source_organism': {'taxId': '11698',\n",
       "  'scientificName': 'Human immunodeficiency virus type 1 group M subtype B (isolate NY5)',\n",
       "  'fullName': 'Human immunodeficiency virus type 1 group M subtype B (isolate NY5) (HIV-1)'}}"
      ]
     },
     "execution_count": 32,
     "metadata": {},
     "output_type": "execute_result"
    }
   ],
   "source": [
    "a[\"results\"][0][\"metadata\"]"
   ]
  },
  {
   "cell_type": "code",
   "execution_count": 33,
   "metadata": {},
   "outputs": [
    {
     "data": {
      "text/plain": [
       "{'accession': 'Q99LC4',\n",
       " 'name': 'Igh protein',\n",
       " 'source_database': 'unreviewed',\n",
       " 'length': 463,\n",
       " 'source_organism': {'taxId': '10090',\n",
       "  'scientificName': 'Mus musculus',\n",
       "  'fullName': 'Mus musculus (Mouse)'}}"
      ]
     },
     "execution_count": 33,
     "metadata": {},
     "output_type": "execute_result"
    }
   ],
   "source": [
    "a[\"results\"][1][\"metadata\"]"
   ]
  }
 ],
 "metadata": {
  "kernelspec": {
   "display_name": "Python 3.10.4 ('basado')",
   "language": "python",
   "name": "python3"
  },
  "language_info": {
   "codemirror_mode": {
    "name": "ipython",
    "version": 3
   },
   "file_extension": ".py",
   "mimetype": "text/x-python",
   "name": "python",
   "nbconvert_exporter": "python",
   "pygments_lexer": "ipython3",
   "version": "3.10.4"
  },
  "orig_nbformat": 4,
  "vscode": {
   "interpreter": {
    "hash": "896d8940c7cff8e0767f763f4c4dd0cba73858f017a6be2ec30bcca63cd5fa32"
   }
  }
 },
 "nbformat": 4,
 "nbformat_minor": 2
}
